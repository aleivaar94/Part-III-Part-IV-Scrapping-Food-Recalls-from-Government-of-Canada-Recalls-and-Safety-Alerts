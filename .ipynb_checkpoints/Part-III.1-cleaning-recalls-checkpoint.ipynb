{
 "cells": [
  {
   "cell_type": "markdown",
   "id": "ffd2d84a-025c-4bb9-80ea-6bbcf4a195aa",
   "metadata": {},
   "source": [
    "# Data Cleaning & Extraction of Recalls from 2011 to 2021-10-15"
   ]
  },
  {
   "cell_type": "code",
   "execution_count": 1,
   "id": "fc0681ed-ab15-472a-86a2-c513e071ba63",
   "metadata": {},
   "outputs": [],
   "source": [
    "import os, glob\n",
    "import pandas as pd\n",
    "import numpy as np\n",
    "import re\n",
    "\n",
    "pd.set_option('display.max_colwidth', None)\n",
    "pd.set_option('display.max_rows', None)\n",
    "\n",
    "# Loading data. Each year of recalls is stored in csv file\n",
    "files = glob.glob('recalls-20*.csv')\n",
    "df_list = []\n",
    "for file in files:\n",
    "    df = pd.read_csv(file)\n",
    "    df_list.append(df)\n",
    "\n",
    "recalls = pd.concat(df_list, axis=0, ignore_index=True)\n",
    "\n",
    "\n",
    "# Dropping recall_info and index colum\n",
    "recalls.drop([recalls.columns[0], 'recall_info', 'link'], axis= 1, inplace=True)\n",
    "\n",
    "recalls['date'] = pd.to_datetime(recalls.date, format='%Y-%m-%d')\n",
    "recalls = recalls.sort_values('date', ascending=False)\n",
    "recalls.reset_index(drop=True, inplace=True)\n",
    "\n",
    "# Dropping rows with advisories, not recalls\n",
    "recalls.drop([recalls.index[3502], recalls.index[3696]], axis=0, inplace=True)\n",
    "\n",
    "# recalls['recall_info'] = recalls.recall_info.str.replace(r'\\n.*', '', regex=True).str.strip()\n",
    "# recalls.head()"
   ]
  },
  {
   "cell_type": "markdown",
   "id": "201607ee-0308-41aa-ba3a-53af729cd539",
   "metadata": {
    "tags": []
   },
   "source": [
    "### Regex Function to Extract Hazard, Product and Hazard Type"
   ]
  },
  {
   "cell_type": "code",
   "execution_count": 2,
   "id": "c9ab1ff8-8f89-4e34-864e-c227ce0ead4a",
   "metadata": {},
   "outputs": [],
   "source": [
    "def extract_hazard(s: str):\n",
    "    regex_1 = re.search(r'may contain (.*)$', s)\n",
    "    regex_2 = re.search(r'^(.*?) in\\b', s)\n",
    "    regex_3 = re.search(r'due to (.*)$', s)\n",
    "    regex_4 = re.search(r'due (.*)$', s)\n",
    "    regex_5 = re.search(r'may cause (.*)$', s)\n",
    "    regex_6 = re.search(r'contains? (.*)$', s)\n",
    "    if regex_1:\n",
    "        return regex_1.group(1).capitalize()\n",
    "    elif regex_2:\n",
    "        return regex_2.group(1).capitalize()\n",
    "    elif regex_3:\n",
    "        return regex_3.group(1).capitalize()\n",
    "    elif regex_4:\n",
    "        return regex_4.group(1).capitalize()\n",
    "    elif regex_5:\n",
    "        return regex_5.group(1).capitalize()\n",
    "    elif regex_6:\n",
    "        return regex_6.group(1).capitalize()\n",
    "    else:\n",
    "        return np.nan"
   ]
  },
  {
   "cell_type": "code",
   "execution_count": 3,
   "id": "3cad7a7d-cb03-419a-af00-997eb805e3a8",
   "metadata": {},
   "outputs": [],
   "source": [
    "def extract_product(s: str):\n",
    "    regex_1 = re.search(r'brands? (.*) recalled', s)\n",
    "    regex_2 = re.search(r'certain (.*) recalled', s)\n",
    "    regex_3 = re.search(r'brands? (.*) may be', s)\n",
    "    regex_11 = re.search(r'(.*) recalled due', s)\n",
    "    regex_4 = re.search(r'due (.*)$', s)\n",
    "    regex_5 = re.search(r'(.*?) brand', s)\n",
    "    regex_6 = re.search(r'contains? (.*)$', s)\n",
    "    regex_7 = re.search(r'certain (.*)$', s)\n",
    "    regex_8 = re.search(r'in (.*)$', s)\n",
    "    regex_9 = re.search(r'(.*) manufactured by', s)\n",
    "    regex_10 = re.search(r'(.*) (recalled)? by', s)\n",
    "    regex_11 = re.search(r'(.*) recalled due', s)\n",
    "    if regex_1:\n",
    "        return regex_1.group(1).capitalize()\n",
    "    elif regex_2:\n",
    "        return regex_2.group(1).capitalize()\n",
    "    elif regex_3:\n",
    "        return regex_3.group(1).capitalize()\n",
    "    elif regex_4:\n",
    "        return regex_4.group(1).capitalize()\n",
    "    elif regex_5:\n",
    "        return regex_5.group(1).capitalize()\n",
    "    elif regex_6:\n",
    "        return regex_6.group(1).capitalize()\n",
    "    elif regex_7:\n",
    "        return regex_7.group(1).capitalize()\n",
    "    elif regex_8:\n",
    "        return regex_8.group(1).capitalize()\n",
    "    elif regex_9:\n",
    "        return regex_9.group(1).capitalize()\n",
    "    elif regex_10:\n",
    "        return regex_10.group(1).capitalize()\n",
    "    elif regex_11:\n",
    "        return regex_11.group(1).capitalize()    \n",
    "    else:\n",
    "        return np.nan"
   ]
  },
  {
   "cell_type": "code",
   "execution_count": 4,
   "id": "9b2f1c15-a3ab-47ff-aa91-94029eb6a70a",
   "metadata": {},
   "outputs": [],
   "source": [
    "def extract_hazard_type(s: str):\n",
    "    regex_1 = re.search(r'(.*?) -', s)\n",
    "    regex_2 = re.search(r'(.*?),', s)\n",
    "    if regex_1:\n",
    "        return regex_1.group(1).capitalize()\n",
    "    elif regex_2:\n",
    "        return regex_2.group(1).capitalize()\n",
    "    else:\n",
    "        return s"
   ]
  },
  {
   "cell_type": "markdown",
   "id": "63ac9fb6-e2dc-44c1-b3bc-6d16f25ccb52",
   "metadata": {},
   "source": [
    "---"
   ]
  },
  {
   "cell_type": "markdown",
   "id": "2a09faf8-51d4-44fe-be76-0d2ba0867cb1",
   "metadata": {
    "tags": []
   },
   "source": [
    "### Extract Hazard, Product, Brand and Hazard Type"
   ]
  },
  {
   "cell_type": "code",
   "execution_count": 5,
   "id": "3ee6b002-7982-465e-89cc-9d1a4f0fac8d",
   "metadata": {},
   "outputs": [
    {
     "name": "stderr",
     "output_type": "stream",
     "text": [
      "C:\\Users\\Ale\\AppData\\Local\\Temp/ipykernel_648/1212024492.py:4: FutureWarning: The default value of regex will change from True to False in a future version.\n",
      "  recalls['hazard'] = recalls['title_lower'].apply(extract_hazard).str.replace('Undeclared |Undecalred ', '').str.replace('Potential ', '').str.replace(r'[Pp]resence of ', '').str.capitalize()\n",
      "C:\\Users\\Ale\\AppData\\Local\\Temp/ipykernel_648/1212024492.py:5: FutureWarning: The default value of regex will change from True to False in a future version.\n",
      "  recalls['hazard'] = recalls['hazard'].str.replace('and|/or| / or ', ',').str.strip()\n"
     ]
    }
   ],
   "source": [
    "recalls['title_lower'] = recalls['title'].str.lower()\n",
    "\n",
    "# Create hazard column with extracted values from the title column\n",
    "recalls['hazard'] = recalls['title_lower'].apply(extract_hazard).str.replace('Undeclared |Undecalred ', '').str.replace('Potential ', '').str.replace(r'[Pp]resence of ', '').str.capitalize()\n",
    "recalls['hazard'] = recalls['hazard'].str.replace('and|/or| / or ', ',').str.strip()\n",
    "\n",
    "# Create product column with extracted values from the title column\n",
    "recalls['product'] = recalls['title_lower'].apply(extract_product)\n",
    "\n",
    "# Create brand column with extracted values from the title column\n",
    "recalls['brand'] = recalls['title'].str.extract(r'(.*?) brand')\n",
    "\n",
    "# Create hazard_type column with extracted values from the title column\n",
    "recalls['hazard_type'] = recalls['issue'].apply(extract_hazard_type)\n"
   ]
  },
  {
   "cell_type": "markdown",
   "id": "d3f81ee8-1c41-4854-a86b-2ee409403f0b",
   "metadata": {},
   "source": [
    "### Filling null values in audience column"
   ]
  },
  {
   "cell_type": "code",
   "execution_count": 6,
   "id": "3e0ba3b8-ef60-4a09-bece-ff9af79ee3de",
   "metadata": {},
   "outputs": [
    {
     "name": "stderr",
     "output_type": "stream",
     "text": [
      "C:\\Users\\Ale\\anaconda3\\lib\\site-packages\\pandas\\core\\indexing.py:1732: SettingWithCopyWarning: \n",
      "A value is trying to be set on a copy of a slice from a DataFrame\n",
      "\n",
      "See the caveats in the documentation: https://pandas.pydata.org/pandas-docs/stable/user_guide/indexing.html#returning-a-view-versus-a-copy\n",
      "  self._setitem_single_block(indexer, value, name)\n"
     ]
    }
   ],
   "source": [
    "recalls['audience'] = recalls['audience'].fillna('Retail') # before filling confirm proportion of Retail\n",
    "recalls['distribution'] = recalls['distribution'].fillna('Nationally')\n",
    "recalls['distribution'].loc[recalls['distribution'].str.contains(r'[0-9]+')] = 'Nationally'\n",
    "recalls['distribution'].loc[recalls['distribution'].str.contains(r'National')] = 'Nationally'\n",
    "recalls['audience'].loc[recalls['audience'].str.contains(r'[0-9]+')] = 'Retail'\n",
    "# recalls[recalls['audience'].str.contains(r'[0-9]+')]"
   ]
  },
  {
   "cell_type": "code",
   "execution_count": 7,
   "id": "e7ac75db-134f-4497-bc18-210e4b373b8c",
   "metadata": {},
   "outputs": [
    {
     "data": {
      "text/plain": [
       "index             0\n",
       "title             0\n",
       "date              0\n",
       "issue             0\n",
       "audience          0\n",
       "company          13\n",
       "distribution      0\n",
       "recall_class      1\n",
       "title_lower       0\n",
       "hazard           84\n",
       "product          21\n",
       "brand           647\n",
       "hazard_type       0\n",
       "dtype: int64"
      ]
     },
     "execution_count": 7,
     "metadata": {},
     "output_type": "execute_result"
    }
   ],
   "source": [
    "recalls.isnull().sum()"
   ]
  },
  {
   "cell_type": "markdown",
   "id": "26ef7955-4f19-4b69-b9b8-bf0a3462119f",
   "metadata": {},
   "source": [
    "### Replace Values by Slice"
   ]
  },
  {
   "cell_type": "code",
   "execution_count": 8,
   "id": "c8d2e11f-752b-410b-9104-74e2b5ddb9bc",
   "metadata": {},
   "outputs": [],
   "source": [
    "recalls['hazard'] = recalls['hazard'].str.strip().str.lower()\n",
    "recalls['hazard'].loc[recalls['hazard'].str.contains(r'generic|e.coli', na=False)] = 'E. coli'\n",
    "recalls['hazard'].loc[recalls['hazard'].str.contains(r'o121|o103|o26', na=False)] = 'E. coli'\n",
    "recalls['hazard'].loc[recalls['hazard'].str.contains(r'o157|pathogenic', na=False)] = 'E. coli O157:H7'\n",
    "recalls['hazard'].loc[recalls['hazard'].str.contains(r'0157', na=False)] = 'E. coli O157:H7'\n",
    "recalls['hazard'] = recalls['hazard'].str.strip().str.capitalize()\n",
    "recalls['hazard'] = recalls['hazard'].str.replace(r'species|listeria|Listeria', 'monocytogenes', regex=True)\n",
    "recalls['hazard'] = recalls['hazard'].str.replace(r'monocytogenes', 'Listeria monocytogenes', regex=True)\n",
    "recalls['hazard'].loc[recalls['hazard'].str.contains(r'isteria', na=False)] = 'Listeria monocytogenes'\n",
    "recalls['hazard'].loc[recalls['hazard'].str.contains(r's?almonella', na=False)] = 'Salmonella'\n",
    "recalls['hazard'].loc[recalls['hazard'].str.contains(r'[Mm]etals?', na=False)] = 'Metal'\n",
    "recalls['hazard'].loc[recalls['hazard'].str.contains(r'[Gg]lass', na=False)] = 'Glass'\n",
    "recalls['hazard'].loc[recalls['hazard'].str.contains(r'[Pp]lastic|pen', na=False)] = 'Plastic'\n",
    "recalls['hazard'] = recalls['hazard'].str.replace(r'The|chemical|allergen', '', regex=True).str.strip()\n",
    "recalls['hazard'] = recalls['hazard'].str.replace(r'Improperly|declared', '', regex=True).str.strip()\n",
    "recalls['hazard'].loc[recalls['hazard'].str.contains(r'h?epatitis', na=False)] = 'Hepatitis A'\n",
    "recalls['hazard'].loc[recalls['hazard'].str.contains(r'[Pp]araly|[Mm]arine', na=False)] = 'Marine Biotoxin'\n",
    "recalls['hazard'].loc[recalls['hazard'].str.contains(r'ampering', na=False)] = 'Tampering'\n",
    "recalls['hazard'].loc[recalls['hazard'].str.contains(r'label|utrition', na=False)] = 'Labelling'\n",
    "recalls['hazard'].loc[recalls['hazard'].str.contains(r'[Ss]tap|aureus', na=False)] = 'Staphylococcus aureus'\n",
    "recalls['hazard'].loc[recalls['hazard'].str.contains(r'[Ss]poi|[Qq]uality|[Oo]ff|[Rr]ancid|ossible', na=False)] = 'Quality/Spoilage'\n",
    "recalls['hazard'].loc[recalls['hazard'].str.contains(r'[Bb]one', na=False)] = 'Bone'\n",
    "recalls['hazard'] = recalls['hazard'].str.replace(r'Pieces of wood|pieces of wood', 'Wood', regex=True).str.strip()\n",
    "recalls['hazard'].loc[recalls['hazard'].str.contains(r'rubbe', na=False)] = 'Rubber'\n",
    "recalls['hazard'].loc[recalls['hazard'].str.contains(r'rock', na=False)] = 'Rocks'\n",
    "recalls['hazard'].loc[recalls['hazard'].str.contains(r'[Ii]nsect', na=False)] = 'Insects'\n",
    "recalls['hazard'] = recalls['hazard'].str.replace(r'seeds?', '', regex=True).str.strip()\n",
    "recalls['hazard'] = recalls['hazard'].str.replace(r'Pieces of ', '', regex=True).str.strip()\n",
    "recalls['hazard'].loc[recalls['hazard'].str.contains(r'[Ii]nfes', na=False)] = 'Mice'\n",
    "recalls['hazard'].loc[recalls['hazard'].str.contains(r'materi', na=False)] = 'Extraneous material'\n",
    "recalls['hazard'].loc[recalls['hazard'].str.contains(r'cereus', na=False)] = 'Bacillus cereus'\n",
    "recalls['hazard'].loc[recalls['hazard'].str.contains(r'parahaemolyticus', na=False)] = 'Vibrio parahaemolyticus'\n",
    "recalls['hazard'].loc[recalls['hazard'].str.contains(r'acteria', na=False)] = 'Dangerous bacteria'\n",
    "recalls['hazard_type'].loc[recalls['hazard_type'].str.contains(r'Class', na=False)] = 'Microbiological'\n",
    "recalls['hazard_type'].loc[recalls['hazard_type'].str.contains(r'Nutrition', na=False)] = 'Labelling'\n",
    "recalls['hazard_type'].loc[recalls['hazard_type'].str.contains(r'Extraneous', na=False)] = 'Extraneous Material'\n",
    "recalls['hazard_type'].loc[recalls['hazard_type'].str.contains(r'Chemical', na=False)] = 'Chemical'\n",
    "recalls['hazard_type'].loc[recalls['hazard_type'].str.contains(r'Marine', na=False)] = 'Marine Biotoxin'\n",
    "\n",
    "# replacing Canadian Food Inspection Agency for the correct recall class\n",
    "slice_cfia = recalls[recalls['recall_class'].str.contains(r'Canadian', na=False)]\n",
    "recalls['recall_class'].loc[recalls['recall_class'].str.contains(r'Canadian', na=False)] = slice_cfia['hazard_type']\n",
    "\n",
    "# replacing Microbiological for the correct recall class stored in the issue column\n",
    "slice_cfia = recalls[recalls['recall_class'].str.contains(r'Micro', na=False)]\n",
    "recalls['recall_class'].loc[recalls['recall_class'].str.contains(r'Micro', na=False)] = slice_cfia['issue']"
   ]
  },
  {
   "cell_type": "markdown",
   "id": "1413ef0e-cf0b-4474-9e5d-7d8db39fbf52",
   "metadata": {},
   "source": [
    "drop rows that contain various in the hazard column??"
   ]
  },
  {
   "cell_type": "code",
   "execution_count": 9,
   "id": "fda7a077-dc2c-4afa-a23d-d0b0f8b8eae6",
   "metadata": {},
   "outputs": [
    {
     "data": {
      "text/plain": [
       "(3700, 13)"
      ]
     },
     "execution_count": 9,
     "metadata": {},
     "output_type": "execute_result"
    }
   ],
   "source": [
    "recalls.shape"
   ]
  },
  {
   "cell_type": "code",
   "execution_count": 10,
   "id": "eb170451-bd19-4a2a-9a71-52c03b631c14",
   "metadata": {},
   "outputs": [],
   "source": [
    "recalls_clean = recalls[['index', 'title', 'date', 'issue', 'hazard',\n",
    "                   'hazard_type','recall_class','audience',\n",
    "                   'distribution','brand','company','product']]\n",
    "# recalls.to_csv('recalls-clean-2022.csv')"
   ]
  },
  {
   "cell_type": "code",
   "execution_count": 11,
   "id": "749fcfe1-a94c-4937-aa8a-3963c1b279e5",
   "metadata": {},
   "outputs": [
    {
     "data": {
      "text/plain": [
       "(3700, 12)"
      ]
     },
     "execution_count": 11,
     "metadata": {},
     "output_type": "execute_result"
    }
   ],
   "source": [
    "recalls_clean.shape"
   ]
  },
  {
   "cell_type": "markdown",
   "id": "b3175f65-38d1-4cd4-b385-67d12eba0796",
   "metadata": {},
   "source": [
    "### Explode Hazard and Distribution (Transform each element separated by a comma, replicating index values in the dataframe.)"
   ]
  },
  {
   "cell_type": "code",
   "execution_count": 12,
   "id": "91ab861a-d05a-4228-af2f-7539fe514ac1",
   "metadata": {},
   "outputs": [],
   "source": [
    "recalls_clean['hazard_explode'] = recalls_clean.hazard.str.split(',')\n",
    "recalls_clean['distribution_explode'] = recalls_clean.distribution.str.split(',')\n",
    "\n",
    "recalls_explode = recalls_clean.explode('hazard_explode').explode('distribution_explode').reset_index()\n",
    "\n",
    "recalls_explode.drop(columns=['hazard', 'distribution'], inplace=True)\n",
    "recalls_explode = recalls_explode.rename(columns={'level_0': 'index_clean', 'index':'index_links',\n",
    "                                 'hazard_explode':'hazard', 'distribution_explode':'distribution'})\n",
    "\n",
    "recalls_explode['hazard'] = recalls_explode.hazard.str.strip().str.capitalize()\n",
    "recalls_explode['distribution'] = recalls_explode.distribution.str.strip()"
   ]
  },
  {
   "cell_type": "code",
   "execution_count": 13,
   "id": "8d182fbe-19da-4027-ab10-bb72c9008147",
   "metadata": {},
   "outputs": [],
   "source": [
    "recalls_explode = recalls_explode[['index_clean', 'index_links', 'title',\n",
    "                             'date','hazard_type', 'hazard', 'recall_class','audience',\n",
    "                             'distribution','brand','product', 'company']]"
   ]
  },
  {
   "cell_type": "markdown",
   "id": "b0faf5c2-c3aa-41bb-85b4-8cb07124fe62",
   "metadata": {},
   "source": [
    "### Final Clean on Hazard column"
   ]
  },
  {
   "cell_type": "code",
   "execution_count": 14,
   "id": "f26c32fa-b995-43f3-b001-d3252dce987d",
   "metadata": {},
   "outputs": [],
   "source": [
    "# This function is based on a text cleaning function developed by Matt Harrison.\n",
    "\n",
    "def generalize(ser, match_name, default=None, regex=False, case=False):\n",
    "    \"\"\" Search a series for text matches.\n",
    "    Based on code from https://www.metasnake.com/blog/pydata-assign.html\n",
    "\n",
    "    ser: pandas series to search\n",
    "    match_name: tuple containing text to search for and text to use for normalization\n",
    "    default: If no match, use this to provide a default value, otherwise use the original text\n",
    "    regex: Boolean to indicate if match_name contains a  regular expression\n",
    "    case: Case sensitive search\n",
    "\n",
    "    Returns a pandas series with the matched value\n",
    "\n",
    "    \"\"\"\n",
    "    seen = None\n",
    "    for match, name in match_name:\n",
    "        mask = ser.str.contains(match, case=case, regex=regex)\n",
    "        if seen is None:\n",
    "            seen = mask\n",
    "        else:\n",
    "            seen |= mask\n",
    "        ser = ser.where(~mask, name)\n",
    "    if default:\n",
    "        ser = ser.where(seen, default)\n",
    "    else:\n",
    "        ser = ser.where(seen, ser.values)\n",
    "    return ser\n",
    "\n",
    "\n",
    "\n",
    "hazard_patterns = [('Yeasts', 'Yeast'), ('Walnuts', 'Walnut'), ('T?ree nuts', 'Tree nut'), ('Sulp?ites', 'Sulphites'),\n",
    "                   ('Sanitizer residue', 'Sanitizer'), ('Rock', 'Rocks'),\n",
    "                   ('Toxin patulin', 'Patulin'), ('Pistachios', 'Pistachio'),\n",
    "                   ('Peanuts', 'Peanut'), ('Moulds', 'Mould'),\n",
    "                   ('Hazelnuts', 'Hazelnut'), ('Eggs', 'Egg'), ('Cashews', 'Cashew'),\n",
    "                   ('Almonds', 'Almond')]"
   ]
  },
  {
   "cell_type": "code",
   "execution_count": 15,
   "id": "25cc7a86-a753-45de-add7-443d652e86c6",
   "metadata": {},
   "outputs": [],
   "source": [
    "recalls_explode.hazard.fillna('', inplace=True)"
   ]
  },
  {
   "cell_type": "code",
   "execution_count": 16,
   "id": "0f7b3f12-40b7-4243-8496-2b60fb13cadf",
   "metadata": {},
   "outputs": [],
   "source": [
    "# Apply generalize function \n",
    "recalls_explode['hazard'] = generalize(recalls_explode['hazard'], hazard_patterns,  default=None, regex=True, case=False)"
   ]
  },
  {
   "cell_type": "code",
   "execution_count": 17,
   "id": "4eb83436-3cdf-4a63-8323-b1c204950b21",
   "metadata": {},
   "outputs": [
    {
     "data": {
      "text/html": [
       "<div>\n",
       "<style scoped>\n",
       "    .dataframe tbody tr th:only-of-type {\n",
       "        vertical-align: middle;\n",
       "    }\n",
       "\n",
       "    .dataframe tbody tr th {\n",
       "        vertical-align: top;\n",
       "    }\n",
       "\n",
       "    .dataframe thead th {\n",
       "        text-align: right;\n",
       "    }\n",
       "</style>\n",
       "<table border=\"1\" class=\"dataframe\">\n",
       "  <thead>\n",
       "    <tr style=\"text-align: right;\">\n",
       "      <th></th>\n",
       "      <th>index_clean</th>\n",
       "      <th>index_links</th>\n",
       "      <th>title</th>\n",
       "      <th>date</th>\n",
       "      <th>hazard_type</th>\n",
       "      <th>hazard</th>\n",
       "      <th>recall_class</th>\n",
       "      <th>audience</th>\n",
       "      <th>distribution</th>\n",
       "      <th>brand</th>\n",
       "      <th>product</th>\n",
       "      <th>company</th>\n",
       "    </tr>\n",
       "  </thead>\n",
       "  <tbody>\n",
       "    <tr>\n",
       "      <th>0</th>\n",
       "      <td>0</td>\n",
       "      <td>226</td>\n",
       "      <td>Happy Veggie World brand Vege Chicken Breast and Vegefarm brand Vege Stewed Lamb Chunk recalled due to undeclared egg</td>\n",
       "      <td>2021-10-15</td>\n",
       "      <td>Allergen</td>\n",
       "      <td>Egg</td>\n",
       "      <td>Class 2</td>\n",
       "      <td>Consumer</td>\n",
       "      <td>Nationally</td>\n",
       "      <td>Happy Veggie World</td>\n",
       "      <td>Vege chicken breast and vegefarm brand vege stewed lamb chunk</td>\n",
       "      <td>Global Vegetarian Foods Corp.</td>\n",
       "    </tr>\n",
       "    <tr>\n",
       "      <th>1</th>\n",
       "      <td>1</td>\n",
       "      <td>227</td>\n",
       "      <td>allSpices Food brand Sauce Ging-Hab recalled due to container integrity defects</td>\n",
       "      <td>2021-10-15</td>\n",
       "      <td>Microbiological</td>\n",
       "      <td>Container integrity defects</td>\n",
       "      <td>Class 3</td>\n",
       "      <td>Retail</td>\n",
       "      <td>Ontario</td>\n",
       "      <td>allSpices Food</td>\n",
       "      <td>Sauce ging-hab</td>\n",
       "      <td>allSpices Food</td>\n",
       "    </tr>\n",
       "    <tr>\n",
       "      <th>2</th>\n",
       "      <td>1</td>\n",
       "      <td>227</td>\n",
       "      <td>allSpices Food brand Sauce Ging-Hab recalled due to container integrity defects</td>\n",
       "      <td>2021-10-15</td>\n",
       "      <td>Microbiological</td>\n",
       "      <td>Container integrity defects</td>\n",
       "      <td>Class 3</td>\n",
       "      <td>Retail</td>\n",
       "      <td>Quebec</td>\n",
       "      <td>allSpices Food</td>\n",
       "      <td>Sauce ging-hab</td>\n",
       "      <td>allSpices Food</td>\n",
       "    </tr>\n",
       "    <tr>\n",
       "      <th>3</th>\n",
       "      <td>2</td>\n",
       "      <td>228</td>\n",
       "      <td>Canada Uncle Bill Seafood brand Dried Octopus recalled due to undeclared sulphites</td>\n",
       "      <td>2021-10-14</td>\n",
       "      <td>Allergen</td>\n",
       "      <td>Sulphites</td>\n",
       "      <td>Class 2</td>\n",
       "      <td>Retail</td>\n",
       "      <td>Ontario</td>\n",
       "      <td>Canada Uncle Bill Seafood</td>\n",
       "      <td>Dried octopus</td>\n",
       "      <td>Canada Uncle Bill Group Inc.</td>\n",
       "    </tr>\n",
       "    <tr>\n",
       "      <th>4</th>\n",
       "      <td>3</td>\n",
       "      <td>229</td>\n",
       "      <td>Jongilpoom brand Enoki Mushroom recalled due to Listeria monocytogenes</td>\n",
       "      <td>2021-10-14</td>\n",
       "      <td>Microbiological</td>\n",
       "      <td>Listeria monocytogenes</td>\n",
       "      <td>Class 1</td>\n",
       "      <td>Consumer</td>\n",
       "      <td>Nationally</td>\n",
       "      <td>Jongilpoom</td>\n",
       "      <td>Enoki mushroom</td>\n",
       "      <td>Covic International Trading Inc.</td>\n",
       "    </tr>\n",
       "  </tbody>\n",
       "</table>\n",
       "</div>"
      ],
      "text/plain": [
       "   index_clean  index_links  \\\n",
       "0            0          226   \n",
       "1            1          227   \n",
       "2            1          227   \n",
       "3            2          228   \n",
       "4            3          229   \n",
       "\n",
       "                                                                                                                   title  \\\n",
       "0  Happy Veggie World brand Vege Chicken Breast and Vegefarm brand Vege Stewed Lamb Chunk recalled due to undeclared egg   \n",
       "1                                        allSpices Food brand Sauce Ging-Hab recalled due to container integrity defects   \n",
       "2                                        allSpices Food brand Sauce Ging-Hab recalled due to container integrity defects   \n",
       "3                                     Canada Uncle Bill Seafood brand Dried Octopus recalled due to undeclared sulphites   \n",
       "4                                                 Jongilpoom brand Enoki Mushroom recalled due to Listeria monocytogenes   \n",
       "\n",
       "        date      hazard_type                       hazard recall_class  \\\n",
       "0 2021-10-15         Allergen                          Egg      Class 2   \n",
       "1 2021-10-15  Microbiological  Container integrity defects      Class 3   \n",
       "2 2021-10-15  Microbiological  Container integrity defects      Class 3   \n",
       "3 2021-10-14         Allergen                    Sulphites      Class 2   \n",
       "4 2021-10-14  Microbiological       Listeria monocytogenes      Class 1   \n",
       "\n",
       "   audience distribution                      brand  \\\n",
       "0  Consumer   Nationally         Happy Veggie World   \n",
       "1    Retail      Ontario             allSpices Food   \n",
       "2    Retail       Quebec             allSpices Food   \n",
       "3    Retail      Ontario  Canada Uncle Bill Seafood   \n",
       "4  Consumer   Nationally                 Jongilpoom   \n",
       "\n",
       "                                                         product  \\\n",
       "0  Vege chicken breast and vegefarm brand vege stewed lamb chunk   \n",
       "1                                                 Sauce ging-hab   \n",
       "2                                                 Sauce ging-hab   \n",
       "3                                                  Dried octopus   \n",
       "4                                                 Enoki mushroom   \n",
       "\n",
       "                            company  \n",
       "0     Global Vegetarian Foods Corp.  \n",
       "1                    allSpices Food  \n",
       "2                    allSpices Food  \n",
       "3      Canada Uncle Bill Group Inc.  \n",
       "4  Covic International Trading Inc.  "
      ]
     },
     "execution_count": 17,
     "metadata": {},
     "output_type": "execute_result"
    }
   ],
   "source": [
    "recalls_explode.head()"
   ]
  },
  {
   "cell_type": "code",
   "execution_count": 18,
   "id": "79526c2b-ceff-46dd-a43b-a832eaa09ed8",
   "metadata": {},
   "outputs": [],
   "source": [
    "# Save dataframe Part 1 to csv file\n",
    "recalls_explode.to_csv('recalls-explode-2022.csv')"
   ]
  },
  {
   "cell_type": "code",
   "execution_count": 19,
   "id": "d1a2be03-6dbb-4149-bae9-caf955a7a59b",
   "metadata": {},
   "outputs": [],
   "source": [
    "# recalls_clean.date.dt.year.value_counts()"
   ]
  },
  {
   "cell_type": "code",
   "execution_count": 20,
   "id": "2f0b1b1f-622a-490c-b9e5-fd083fcf239d",
   "metadata": {},
   "outputs": [],
   "source": [
    "# recalls_explode.distribution.value_counts(normalize=True)"
   ]
  },
  {
   "cell_type": "code",
   "execution_count": 21,
   "id": "78e5ca58-035b-4e16-b683-a122bca26e82",
   "metadata": {},
   "outputs": [],
   "source": [
    "# recalls_explode.hazard_type.value_counts(normalize=True)"
   ]
  },
  {
   "cell_type": "code",
   "execution_count": 22,
   "id": "1324a494-b294-41c7-bc77-ac7c4ce638c1",
   "metadata": {},
   "outputs": [],
   "source": [
    "# recalls_explode.audience.value_counts(normalize=True)"
   ]
  },
  {
   "cell_type": "code",
   "execution_count": 23,
   "id": "198abad9-74f8-4c69-8714-83c52f2de2a1",
   "metadata": {},
   "outputs": [],
   "source": [
    "# recalls_explode.hazard.value_counts().to_frame().reset_index().sort_values('index', ascending=False).reset_index()"
   ]
  },
  {
   "cell_type": "markdown",
   "id": "2090f322-ca96-4e55-a813-173b746c17b6",
   "metadata": {
    "tags": []
   },
   "source": [
    "## Reference"
   ]
  },
  {
   "cell_type": "code",
   "execution_count": 24,
   "id": "098be460-f6a6-4e58-b01d-45fb151ec72a",
   "metadata": {},
   "outputs": [
    {
     "data": {
      "text/plain": [
       "'frozen all white meat fully cooked diced chicken recalled due to listeria'"
      ]
     },
     "execution_count": 24,
     "metadata": {},
     "output_type": "execute_result"
    }
   ],
   "source": [
    "s = \"frozen all white meat fully cooked diced chicken recalled due to listeria monocytogenes\"\n",
    "regex_3 = re.search(r'(.*) (recalled)?', s)\n",
    "regex_3.group(1)"
   ]
  },
  {
   "cell_type": "code",
   "execution_count": 25,
   "id": "2c2989f6-07eb-4b1c-a107-6e19622cca07",
   "metadata": {},
   "outputs": [
    {
     "data": {
      "text/plain": [
       "'certain enoki mushrooms may be unsafe due to listeria'"
      ]
     },
     "execution_count": 25,
     "metadata": {},
     "output_type": "execute_result"
    }
   ],
   "source": [
    "s = \"certain enoki mushrooms may be unsafe due to listeria monocytogenes\"\n",
    "regex_3 = re.search(r'(.*) (recalled)?', s)\n",
    "regex_3.group(1)"
   ]
  },
  {
   "cell_type": "code",
   "execution_count": 26,
   "id": "cc1965e7-6308-47cd-8807-1302d41e4c3c",
   "metadata": {},
   "outputs": [
    {
     "data": {
      "text/html": [
       "<div>\n",
       "<style scoped>\n",
       "    .dataframe tbody tr th:only-of-type {\n",
       "        vertical-align: middle;\n",
       "    }\n",
       "\n",
       "    .dataframe tbody tr th {\n",
       "        vertical-align: top;\n",
       "    }\n",
       "\n",
       "    .dataframe thead th {\n",
       "        text-align: right;\n",
       "    }\n",
       "</style>\n",
       "<table border=\"1\" class=\"dataframe\">\n",
       "  <thead>\n",
       "    <tr style=\"text-align: right;\">\n",
       "      <th></th>\n",
       "      <th>order_id</th>\n",
       "      <th>order_date</th>\n",
       "      <th>package</th>\n",
       "      <th>package_code</th>\n",
       "    </tr>\n",
       "  </thead>\n",
       "  <tbody>\n",
       "    <tr>\n",
       "      <th>0</th>\n",
       "      <td>1</td>\n",
       "      <td>20/5/2018</td>\n",
       "      <td>p1,p2,p3</td>\n",
       "      <td>#111,#222,#333</td>\n",
       "    </tr>\n",
       "    <tr>\n",
       "      <th>1</th>\n",
       "      <td>3</td>\n",
       "      <td>22/5/2018</td>\n",
       "      <td>p4</td>\n",
       "      <td>#444</td>\n",
       "    </tr>\n",
       "    <tr>\n",
       "      <th>2</th>\n",
       "      <td>7</td>\n",
       "      <td>23/5/2018</td>\n",
       "      <td>p5,p6</td>\n",
       "      <td>#555,#666</td>\n",
       "    </tr>\n",
       "  </tbody>\n",
       "</table>\n",
       "</div>"
      ],
      "text/plain": [
       "   order_id order_date   package    package_code\n",
       "0         1  20/5/2018  p1,p2,p3  #111,#222,#333\n",
       "1         3  22/5/2018        p4            #444\n",
       "2         7  23/5/2018     p5,p6       #555,#666"
      ]
     },
     "execution_count": 26,
     "metadata": {},
     "output_type": "execute_result"
    }
   ],
   "source": [
    "import pandas as pd\n",
    "\n",
    "df = pd.DataFrame({\"order_id\":[1,3,7],\"order_date\":[\"20/5/2018\",\"22/5/2018\",\"23/5/2018\"], \"package\":[\"p1,p2,p3\",\"p4\",\"p5,p6\"],\"package_code\":[\"#111,#222,#333\",\"#444\",\"#555,#666\"]})\n",
    "df"
   ]
  },
  {
   "cell_type": "code",
   "execution_count": 27,
   "id": "43b3ad8f-3a2e-4ad7-b7a5-b7da45545075",
   "metadata": {},
   "outputs": [
    {
     "data": {
      "text/html": [
       "<div>\n",
       "<style scoped>\n",
       "    .dataframe tbody tr th:only-of-type {\n",
       "        vertical-align: middle;\n",
       "    }\n",
       "\n",
       "    .dataframe tbody tr th {\n",
       "        vertical-align: top;\n",
       "    }\n",
       "\n",
       "    .dataframe thead th {\n",
       "        text-align: right;\n",
       "    }\n",
       "</style>\n",
       "<table border=\"1\" class=\"dataframe\">\n",
       "  <thead>\n",
       "    <tr style=\"text-align: right;\">\n",
       "      <th></th>\n",
       "      <th>order_id</th>\n",
       "      <th>order_date</th>\n",
       "      <th>package</th>\n",
       "      <th>package_code</th>\n",
       "    </tr>\n",
       "  </thead>\n",
       "  <tbody>\n",
       "    <tr>\n",
       "      <th>0</th>\n",
       "      <td>1</td>\n",
       "      <td>20/5/2018</td>\n",
       "      <td>p1</td>\n",
       "      <td>#111</td>\n",
       "    </tr>\n",
       "    <tr>\n",
       "      <th>1</th>\n",
       "      <td>1</td>\n",
       "      <td>20/5/2018</td>\n",
       "      <td>p2</td>\n",
       "      <td>#222</td>\n",
       "    </tr>\n",
       "    <tr>\n",
       "      <th>2</th>\n",
       "      <td>1</td>\n",
       "      <td>20/5/2018</td>\n",
       "      <td>p3</td>\n",
       "      <td>#333</td>\n",
       "    </tr>\n",
       "    <tr>\n",
       "      <th>3</th>\n",
       "      <td>3</td>\n",
       "      <td>22/5/2018</td>\n",
       "      <td>p4</td>\n",
       "      <td>#444</td>\n",
       "    </tr>\n",
       "    <tr>\n",
       "      <th>4</th>\n",
       "      <td>7</td>\n",
       "      <td>23/5/2018</td>\n",
       "      <td>p5</td>\n",
       "      <td>#555</td>\n",
       "    </tr>\n",
       "    <tr>\n",
       "      <th>5</th>\n",
       "      <td>7</td>\n",
       "      <td>23/5/2018</td>\n",
       "      <td>p6</td>\n",
       "      <td>#666</td>\n",
       "    </tr>\n",
       "  </tbody>\n",
       "</table>\n",
       "</div>"
      ],
      "text/plain": [
       "   order_id order_date package package_code\n",
       "0         1  20/5/2018      p1         #111\n",
       "1         1  20/5/2018      p2         #222\n",
       "2         1  20/5/2018      p3         #333\n",
       "3         3  22/5/2018      p4         #444\n",
       "4         7  23/5/2018      p5         #555\n",
       "5         7  23/5/2018      p6         #666"
      ]
     },
     "execution_count": 27,
     "metadata": {},
     "output_type": "execute_result"
    }
   ],
   "source": [
    "df.set_index(['order_id']).apply(lambda x: x.str.split(',').explode()).reset_index()"
   ]
  },
  {
   "cell_type": "code",
   "execution_count": 28,
   "id": "0b298f95-b0e7-4e28-8f3a-61c4bc0b1f69",
   "metadata": {},
   "outputs": [
    {
     "data": {
      "text/html": [
       "<div>\n",
       "<style scoped>\n",
       "    .dataframe tbody tr th:only-of-type {\n",
       "        vertical-align: middle;\n",
       "    }\n",
       "\n",
       "    .dataframe tbody tr th {\n",
       "        vertical-align: top;\n",
       "    }\n",
       "\n",
       "    .dataframe thead th {\n",
       "        text-align: right;\n",
       "    }\n",
       "</style>\n",
       "<table border=\"1\" class=\"dataframe\">\n",
       "  <thead>\n",
       "    <tr style=\"text-align: right;\">\n",
       "      <th></th>\n",
       "      <th>order_date</th>\n",
       "      <th>package</th>\n",
       "      <th>package_code</th>\n",
       "    </tr>\n",
       "    <tr>\n",
       "      <th>order_id</th>\n",
       "      <th></th>\n",
       "      <th></th>\n",
       "      <th></th>\n",
       "    </tr>\n",
       "  </thead>\n",
       "  <tbody>\n",
       "    <tr>\n",
       "      <th>1</th>\n",
       "      <td>20/5/2018</td>\n",
       "      <td>p1</td>\n",
       "      <td>#111</td>\n",
       "    </tr>\n",
       "    <tr>\n",
       "      <th>1</th>\n",
       "      <td>20/5/2018</td>\n",
       "      <td>p2</td>\n",
       "      <td>#222</td>\n",
       "    </tr>\n",
       "    <tr>\n",
       "      <th>1</th>\n",
       "      <td>20/5/2018</td>\n",
       "      <td>p3</td>\n",
       "      <td>#333</td>\n",
       "    </tr>\n",
       "    <tr>\n",
       "      <th>3</th>\n",
       "      <td>22/5/2018</td>\n",
       "      <td>p4</td>\n",
       "      <td>#444</td>\n",
       "    </tr>\n",
       "    <tr>\n",
       "      <th>7</th>\n",
       "      <td>23/5/2018</td>\n",
       "      <td>p5</td>\n",
       "      <td>#555</td>\n",
       "    </tr>\n",
       "    <tr>\n",
       "      <th>7</th>\n",
       "      <td>23/5/2018</td>\n",
       "      <td>p6</td>\n",
       "      <td>#666</td>\n",
       "    </tr>\n",
       "  </tbody>\n",
       "</table>\n",
       "</div>"
      ],
      "text/plain": [
       "         order_date package package_code\n",
       "order_id                                \n",
       "1         20/5/2018      p1         #111\n",
       "1         20/5/2018      p2         #222\n",
       "1         20/5/2018      p3         #333\n",
       "3         22/5/2018      p4         #444\n",
       "7         23/5/2018      p5         #555\n",
       "7         23/5/2018      p6         #666"
      ]
     },
     "execution_count": 28,
     "metadata": {},
     "output_type": "execute_result"
    }
   ],
   "source": [
    "df.set_index(['order_id']).apply(lambda x: x.str.split(',').explode())"
   ]
  }
 ],
 "metadata": {
  "kernelspec": {
   "display_name": "Python 3 (ipykernel)",
   "language": "python",
   "name": "python3"
  },
  "language_info": {
   "codemirror_mode": {
    "name": "ipython",
    "version": 3
   },
   "file_extension": ".py",
   "mimetype": "text/x-python",
   "name": "python",
   "nbconvert_exporter": "python",
   "pygments_lexer": "ipython3",
   "version": "3.9.7"
  }
 },
 "nbformat": 4,
 "nbformat_minor": 5
}
