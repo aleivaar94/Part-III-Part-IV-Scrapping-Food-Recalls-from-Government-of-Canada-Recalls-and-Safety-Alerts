{
 "cells": [
  {
   "cell_type": "markdown",
   "id": "eeb7e47a-6a4a-4bb5-877b-2b358440073b",
   "metadata": {},
   "source": [
    "# Scrapping Recalls from Government of Canada Food Recalls and Safety Alerts\n",
    "### Part I - Extracting Recall Links\n",
    "\n",
    "Date of scrapping: 2022-08-25"
   ]
  },
  {
   "cell_type": "code",
   "execution_count": 1,
   "id": "c2a104d7-18ca-4ee7-863f-cd8715e671cd",
   "metadata": {},
   "outputs": [
    {
     "name": "stderr",
     "output_type": "stream",
     "text": [
      "C:\\Users\\Ale\\AppData\\Local\\Temp/ipykernel_184/4175867550.py:13: DeprecationWarning: executable_path has been deprecated, please pass in a Service object\n",
      "  driver = webdriver.Chrome(executable_path = DRIVER_PATH)\n"
     ]
    }
   ],
   "source": [
    "from selenium import webdriver # Initialize web browser\n",
    "from selenium.webdriver.common.by import By # Search HTML elements using specific parameters\n",
    "from selenium.webdriver.common.keys import Keys # Provide keys in the keyboard like RETURN, F1, ALT etc.\n",
    "from selenium.webdriver.support.ui import WebDriverWait # Wait for a page to load\n",
    "from selenium.webdriver.support import expected_conditions as EC # Specify what you are looking for on a specific page in order to determine that the webpage has loaded.\n",
    "from selenium.webdriver.support.ui import Select # Select dropdown box values\n",
    "from bs4 import BeautifulSoup\n",
    "import pandas as pd\n",
    "import time\n",
    "\n",
    "# Initialize Selenium Chromedriver\n",
    "DRIVER_PATH = 'C:\\\\webdrivers\\\\chromedriver.exe'\n",
    "driver = webdriver.Chrome(executable_path = DRIVER_PATH)\n",
    "driver.get('https://recalls-rappels.canada.ca/en/search/site?search_api_fulltext=&archived=1&f%5B0%5D=category%3A144&page=0')"
   ]
  },
  {
   "cell_type": "markdown",
   "id": "f432ff2d-1b42-41f0-909a-bc8a0d98f624",
   "metadata": {},
   "source": [
    "### Parsing HTML page"
   ]
  },
  {
   "cell_type": "code",
   "execution_count": 28,
   "id": "a9637c7b-8100-4420-aa61-875ab482fa98",
   "metadata": {},
   "outputs": [
    {
     "data": {
      "text/plain": [
       "<div class=\"search-result views-row\"><div class=\"views-field views-field-field-recall-type\"><span class=\"field-content\"><img alt=\"Food alert or recall\" class=\"home-recent-icon\" src=\"/sites/default/files/2021-11/icon-food.svg\"/>\n",
       "<span class=\"homepage-recent\"><a href=\"/en/alert-recall/mrakovic-fine-foods-brand-natural-chicken-burger-recalled-due-undeclared-egg\" hreflang=\"en\">Mrakovic Fine Foods brand Natural Chicken Burger recalled due to undeclared egg</a><br/>\n",
       "<div class=\"search-excerpt-wrapper\">\n",
       "      Mrakovic Fine Foods brand Natural Chicken Burger recalled due to undeclared egg.\n",
       "\n",
       "The recalled product has been sold in Ontario.\n",
       "\n",
       "\n",
       "  </div>\n",
       "<div class=\"type-wrapper\">\n",
       "<span class=\"label label-danger\">Recall</span><span class=\"ar-type\">Notification | 2022-08-24\n",
       "    </span>\n",
       "</div>\n",
       "</span></span></div></div>"
      ]
     },
     "execution_count": 28,
     "metadata": {},
     "output_type": "execute_result"
    }
   ],
   "source": [
    "page_source = driver.page_source\n",
    "soup = BeautifulSoup(page_source, 'html.parser')\n",
    "\n",
    "page_links = soup.find_all('div', class_='search-result views-row')"
   ]
  },
  {
   "cell_type": "markdown",
   "id": "b1b03219-31af-4a77-888f-5251914303dc",
   "metadata": {},
   "source": [
    "### Extracting URL"
   ]
  },
  {
   "cell_type": "code",
   "execution_count": 39,
   "id": "e008d57e-894a-4f32-abc2-e8dff6c68004",
   "metadata": {},
   "outputs": [
    {
     "data": {
      "text/plain": [
       "'https://recalls-rappels.canada.ca/en/alert-recall/mrakovic-fine-foods-brand-natural-chicken-burger-recalled-due-undeclared-egg'"
      ]
     },
     "execution_count": 39,
     "metadata": {},
     "output_type": "execute_result"
    }
   ],
   "source": [
    "'https://recalls-rappels.canada.ca'+ page_links[0].find('a').get('href')"
   ]
  },
  {
   "cell_type": "markdown",
   "id": "fce49a5a-e78b-42ea-bca3-acc034c62453",
   "metadata": {},
   "source": [
    "### Extracting Recall Title"
   ]
  },
  {
   "cell_type": "code",
   "execution_count": 44,
   "id": "569a5d84-7668-40a5-a192-a354843f92f2",
   "metadata": {},
   "outputs": [
    {
     "data": {
      "text/plain": [
       "'Mrakovic Fine Foods brand Natural Chicken Burger recalled due to undeclared egg'"
      ]
     },
     "execution_count": 44,
     "metadata": {},
     "output_type": "execute_result"
    }
   ],
   "source": [
    "page_links[0].find('a').text"
   ]
  },
  {
   "cell_type": "markdown",
   "id": "2e0e07ff-f76c-4031-bf50-de61ef5955b4",
   "metadata": {},
   "source": [
    "### Extracting Additional Info"
   ]
  },
  {
   "cell_type": "code",
   "execution_count": 47,
   "id": "4099b497-d612-454f-a85b-5158ddfc3326",
   "metadata": {},
   "outputs": [
    {
     "data": {
      "text/plain": [
       "'Mrakovic Fine Foods brand Natural Chicken Burger recalled due to undeclared egg. The recalled product has been sold in Ontario.'"
      ]
     },
     "execution_count": 47,
     "metadata": {},
     "output_type": "execute_result"
    }
   ],
   "source": [
    "page_links[0].find('div', class_='search-excerpt-wrapper').text.strip().replace('\\n\\n', ' ')"
   ]
  },
  {
   "cell_type": "markdown",
   "id": "04380c54-21ce-419c-a411-7408ca042198",
   "metadata": {},
   "source": [
    "### Extracting Date of Recall"
   ]
  },
  {
   "cell_type": "code",
   "execution_count": 51,
   "id": "d8563f0d-a712-4b5b-9131-96e93c27e809",
   "metadata": {},
   "outputs": [
    {
     "data": {
      "text/plain": [
       "'2022-08-24'"
      ]
     },
     "execution_count": 51,
     "metadata": {},
     "output_type": "execute_result"
    }
   ],
   "source": [
    "page_links[0].find('span', class_='ar-type').text.strip().replace('Notification | ', '')"
   ]
  },
  {
   "cell_type": "markdown",
   "id": "c3e3c998-1147-408d-bf23-00c525f853c7",
   "metadata": {},
   "source": [
    "## Putting it all together"
   ]
  },
  {
   "cell_type": "code",
   "execution_count": 84,
   "id": "e4084527-aff3-427b-8e6a-ed65aba7ac60",
   "metadata": {},
   "outputs": [
    {
     "data": {
      "text/html": [
       "<div>\n",
       "<style scoped>\n",
       "    .dataframe tbody tr th:only-of-type {\n",
       "        vertical-align: middle;\n",
       "    }\n",
       "\n",
       "    .dataframe tbody tr th {\n",
       "        vertical-align: top;\n",
       "    }\n",
       "\n",
       "    .dataframe thead th {\n",
       "        text-align: right;\n",
       "    }\n",
       "</style>\n",
       "<table border=\"1\" class=\"dataframe\">\n",
       "  <thead>\n",
       "    <tr style=\"text-align: right;\">\n",
       "      <th></th>\n",
       "      <th>link</th>\n",
       "      <th>title</th>\n",
       "      <th>recall_info</th>\n",
       "      <th>date</th>\n",
       "    </tr>\n",
       "  </thead>\n",
       "  <tbody>\n",
       "    <tr>\n",
       "      <th>0</th>\n",
       "      <td>https://recalls-rappels.canada.ca/en/alert-rec...</td>\n",
       "      <td>Mrakovic Fine Foods brand Natural Chicken Burg...</td>\n",
       "      <td>Mrakovic Fine Foods brand Natural Chicken Burg...</td>\n",
       "      <td>2022-08-24</td>\n",
       "    </tr>\n",
       "    <tr>\n",
       "      <th>1</th>\n",
       "      <td>https://recalls-rappels.canada.ca/en/alert-rec...</td>\n",
       "      <td>Life120 brand \"Ricotta Di Bufala Campana Dop\" ...</td>\n",
       "      <td>Life120 brand \"Ricotta Di Bufala Campana Dop\" ...</td>\n",
       "      <td>2022-08-24</td>\n",
       "    </tr>\n",
       "    <tr>\n",
       "      <th>2</th>\n",
       "      <td>https://recalls-rappels.canada.ca/en/alert-rec...</td>\n",
       "      <td>Food Recall Warning (Allergen) – Mastro San Da...</td>\n",
       "      <td>The affected product is being recalled from th...</td>\n",
       "      <td>2022-08-19</td>\n",
       "    </tr>\n",
       "    <tr>\n",
       "      <th>3</th>\n",
       "      <td>https://recalls-rappels.canada.ca/en/alert-rec...</td>\n",
       "      <td>Food Recall Warning (Allergen) – Cache Cuisine...</td>\n",
       "      <td>The affected product is being recalled from th...</td>\n",
       "      <td>2022-08-19</td>\n",
       "    </tr>\n",
       "    <tr>\n",
       "      <th>4</th>\n",
       "      <td>https://recalls-rappels.canada.ca/en/alert-rec...</td>\n",
       "      <td>Delizia brand Vegetarian Ham recalled due to u...</td>\n",
       "      <td>Delizia brand Vegetarian Ham recalled due to u...</td>\n",
       "      <td>2022-08-19</td>\n",
       "    </tr>\n",
       "    <tr>\n",
       "      <th>...</th>\n",
       "      <td>...</td>\n",
       "      <td>...</td>\n",
       "      <td>...</td>\n",
       "      <td>...</td>\n",
       "    </tr>\n",
       "    <tr>\n",
       "      <th>4660</th>\n",
       "      <td>https://recalls-rappels.canada.ca/en/alert-rec...</td>\n",
       "      <td>Archived – Health Canada reminds parents of ...</td>\n",
       "      <td>Archived – Health Canada reminds parents of sc...</td>\n",
       "      <td>Information update | 2007-08-29</td>\n",
       "    </tr>\n",
       "    <tr>\n",
       "      <th>4661</th>\n",
       "      <td>https://recalls-rappels.canada.ca/en/alert-rec...</td>\n",
       "      <td>Archived - Health Canada has released its po...</td>\n",
       "      <td>Archived - Health Canada has released its posi...</td>\n",
       "      <td>Information update | 2007-08-10</td>\n",
       "    </tr>\n",
       "    <tr>\n",
       "      <th>4662</th>\n",
       "      <td>https://recalls-rappels.canada.ca/en/alert-rec...</td>\n",
       "      <td>Archived – Health Canada reminds Canadians a...</td>\n",
       "      <td>Archived – Health Canada reminds Canadians abo...</td>\n",
       "      <td>Information update | 2007-08-01</td>\n",
       "    </tr>\n",
       "    <tr>\n",
       "      <th>4663</th>\n",
       "      <td>https://recalls-rappels.canada.ca/en/alert-rec...</td>\n",
       "      <td>Archived - Health Canada reminds Canadians a...</td>\n",
       "      <td>Archived - Health Canada reminds Canadians abo...</td>\n",
       "      <td>Information update | 2007-06-21</td>\n",
       "    </tr>\n",
       "    <tr>\n",
       "      <th>4664</th>\n",
       "      <td>https://recalls-rappels.canada.ca/en/alert-rec...</td>\n",
       "      <td>Archived – Health Canada Reminds Canadians o...</td>\n",
       "      <td>Archived – Health Canada Reminds Canadians of ...</td>\n",
       "      <td>Information update | 2007-05-17</td>\n",
       "    </tr>\n",
       "  </tbody>\n",
       "</table>\n",
       "<p>4665 rows × 4 columns</p>\n",
       "</div>"
      ],
      "text/plain": [
       "                                                   link  \\\n",
       "0     https://recalls-rappels.canada.ca/en/alert-rec...   \n",
       "1     https://recalls-rappels.canada.ca/en/alert-rec...   \n",
       "2     https://recalls-rappels.canada.ca/en/alert-rec...   \n",
       "3     https://recalls-rappels.canada.ca/en/alert-rec...   \n",
       "4     https://recalls-rappels.canada.ca/en/alert-rec...   \n",
       "...                                                 ...   \n",
       "4660  https://recalls-rappels.canada.ca/en/alert-rec...   \n",
       "4661  https://recalls-rappels.canada.ca/en/alert-rec...   \n",
       "4662  https://recalls-rappels.canada.ca/en/alert-rec...   \n",
       "4663  https://recalls-rappels.canada.ca/en/alert-rec...   \n",
       "4664  https://recalls-rappels.canada.ca/en/alert-rec...   \n",
       "\n",
       "                                                  title  \\\n",
       "0     Mrakovic Fine Foods brand Natural Chicken Burg...   \n",
       "1     Life120 brand \"Ricotta Di Bufala Campana Dop\" ...   \n",
       "2     Food Recall Warning (Allergen) – Mastro San Da...   \n",
       "3     Food Recall Warning (Allergen) – Cache Cuisine...   \n",
       "4     Delizia brand Vegetarian Ham recalled due to u...   \n",
       "...                                                 ...   \n",
       "4660    Archived – Health Canada reminds parents of ...   \n",
       "4661    Archived - Health Canada has released its po...   \n",
       "4662    Archived – Health Canada reminds Canadians a...   \n",
       "4663    Archived - Health Canada reminds Canadians a...   \n",
       "4664    Archived – Health Canada Reminds Canadians o...   \n",
       "\n",
       "                                            recall_info  \\\n",
       "0     Mrakovic Fine Foods brand Natural Chicken Burg...   \n",
       "1     Life120 brand \"Ricotta Di Bufala Campana Dop\" ...   \n",
       "2     The affected product is being recalled from th...   \n",
       "3     The affected product is being recalled from th...   \n",
       "4     Delizia brand Vegetarian Ham recalled due to u...   \n",
       "...                                                 ...   \n",
       "4660  Archived – Health Canada reminds parents of sc...   \n",
       "4661  Archived - Health Canada has released its posi...   \n",
       "4662  Archived – Health Canada reminds Canadians abo...   \n",
       "4663  Archived - Health Canada reminds Canadians abo...   \n",
       "4664  Archived – Health Canada Reminds Canadians of ...   \n",
       "\n",
       "                                 date  \n",
       "0                          2022-08-24  \n",
       "1                          2022-08-24  \n",
       "2                          2022-08-19  \n",
       "3                          2022-08-19  \n",
       "4                          2022-08-19  \n",
       "...                               ...  \n",
       "4660  Information update | 2007-08-29  \n",
       "4661  Information update | 2007-08-10  \n",
       "4662  Information update | 2007-08-01  \n",
       "4663  Information update | 2007-06-21  \n",
       "4664  Information update | 2007-05-17  \n",
       "\n",
       "[4665 rows x 4 columns]"
      ]
     },
     "execution_count": 84,
     "metadata": {},
     "output_type": "execute_result"
    }
   ],
   "source": [
    "recalled = []\n",
    "\n",
    "for i in range(0,311):\n",
    "    driver.get(f'https://recalls-rappels.canada.ca/en/search/site?search_api_fulltext=&archived=1&f%5B0%5D=category%3A144&page={i}')\n",
    "    page_source = driver.page_source\n",
    "    soup = BeautifulSoup(page_source, 'html.parser')\n",
    "    # time.sleep(0.5)\n",
    "    page_links = soup.find_all('div', class_='search-result views-row')\n",
    "    \n",
    "    for link in page_links:\n",
    "        notification = {'link': 'https://recalls-rappels.canada.ca'+ link.find('a').get('href'),\n",
    "                   'title': link.find('a').text,\n",
    "                   'recall_info': link.find('div', class_='search-excerpt-wrapper').text.strip().replace('\\n\\n', ' '),\n",
    "                   'date': link.find('span', class_='ar-type').text.strip().replace('Notification | ', '').replace('Food recall warning | ', ''),\n",
    "                  }\n",
    "        recalled.append(notification)\n",
    "\n",
    "recalls = pd.DataFrame(recalled)\n",
    "recalls"
   ]
  },
  {
   "cell_type": "code",
   "execution_count": 86,
   "id": "272d81af-1f96-487d-ae27-bc3dfbbeb70c",
   "metadata": {},
   "outputs": [
    {
     "data": {
      "text/plain": [
       "link           0\n",
       "title          0\n",
       "recall_info    0\n",
       "date           0\n",
       "dtype: int64"
      ]
     },
     "execution_count": 86,
     "metadata": {},
     "output_type": "execute_result"
    }
   ],
   "source": [
    "recalls.isnull().sum()"
   ]
  },
  {
   "cell_type": "markdown",
   "id": "853817af-2886-4a75-b844-7ce5ec7b92b7",
   "metadata": {},
   "source": [
    "### Save scrapped recalls to csv file\n",
    "Succesfully scrapped all items from page 1 to 311. In total 4665 of 4680 items."
   ]
  },
  {
   "cell_type": "code",
   "execution_count": 85,
   "id": "6e27552e-8d7c-4ef2-93fb-79ab5b8fc781",
   "metadata": {},
   "outputs": [],
   "source": [
    "recalls.to_csv('recalls-links-2022.csv')"
   ]
  },
  {
   "cell_type": "markdown",
   "id": "ee7cf94b-2e51-4d16-a804-9f936416af01",
   "metadata": {},
   "source": [
    "## Reference"
   ]
  },
  {
   "cell_type": "code",
   "execution_count": 54,
   "id": "4c6c49b5-61cf-4f39-afd9-ddf0701611c8",
   "metadata": {},
   "outputs": [
    {
     "name": "stdout",
     "output_type": "stream",
     "text": [
      "<class 'bs4.element.ResultSet'>\n",
      "<class 'bs4.element.Tag'>\n",
      "15\n"
     ]
    }
   ],
   "source": [
    "print(type(page_links))\n",
    "print(type(page_links[0]))\n",
    "print(len(page_links))"
   ]
  }
 ],
 "metadata": {
  "kernelspec": {
   "display_name": "Python 3 (ipykernel)",
   "language": "python",
   "name": "python3"
  },
  "language_info": {
   "codemirror_mode": {
    "name": "ipython",
    "version": 3
   },
   "file_extension": ".py",
   "mimetype": "text/x-python",
   "name": "python",
   "nbconvert_exporter": "python",
   "pygments_lexer": "ipython3",
   "version": "3.9.7"
  }
 },
 "nbformat": 4,
 "nbformat_minor": 5
}
