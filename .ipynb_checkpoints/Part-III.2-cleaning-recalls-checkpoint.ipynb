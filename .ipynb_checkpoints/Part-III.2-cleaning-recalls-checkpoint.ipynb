{
 "cells": [
  {
   "cell_type": "markdown",
   "id": "2ecceb52-4809-4338-861d-57785e9af0ea",
   "metadata": {},
   "source": [
    "# Data Cleaning & Extraction of Recalls from 2011-10-21 to 2022-08-24"
   ]
  },
  {
   "cell_type": "code",
   "execution_count": 1,
   "id": "85b05062-25dd-430a-ad1e-5640b26531cc",
   "metadata": {},
   "outputs": [],
   "source": [
    "import pandas as pd\n",
    "import re\n",
    "\n",
    "pd.set_option('display.max_colwidth', None)\n",
    "pd.set_option('display.max_rows', None)\n",
    "\n",
    "recalls_p = pd.read_csv('recalls-p-2022-2021.csv')\n",
    "recalls_p.drop(['Unnamed: 0', 'link'], axis=1, inplace=True)\n",
    "recalls_p.reset_index(inplace=True)\n",
    "recalls_p['date'] = pd.to_datetime(recalls_p.date, format='%Y-%m-%d')\n",
    "\n",
    "# recalls_p.head()"
   ]
  },
  {
   "cell_type": "code",
   "execution_count": 2,
   "id": "7768b251-bc3e-4972-9001-50f37e1a33f7",
   "metadata": {},
   "outputs": [],
   "source": [
    "# recalls_p.date.dt.year.value_counts()"
   ]
  },
  {
   "cell_type": "markdown",
   "id": "02cb1225-495c-49fb-aabc-3daa4a9ca6b3",
   "metadata": {
    "tags": []
   },
   "source": [
    "### Replacing Values by Slice"
   ]
  },
  {
   "cell_type": "code",
   "execution_count": 3,
   "id": "48f41640-86e8-4866-bfa3-04cf5f408e7f",
   "metadata": {},
   "outputs": [
    {
     "name": "stderr",
     "output_type": "stream",
     "text": [
      "C:\\Users\\Ale\\anaconda3\\lib\\site-packages\\pandas\\core\\indexing.py:1732: SettingWithCopyWarning: \n",
      "A value is trying to be set on a copy of a slice from a DataFrame\n",
      "\n",
      "See the caveats in the documentation: https://pandas.pydata.org/pandas-docs/stable/user_guide/indexing.html#returning-a-view-versus-a-copy\n",
      "  self._setitem_single_block(indexer, value, name)\n"
     ]
    }
   ],
   "source": [
    "# Passing correct audiences from category and category from audience columns by index ref\n",
    "slice_audience = recalls_p['category'][~recalls_p['category'].str.contains(r'Food')]\n",
    "slice_category = recalls_p['audiences'][recalls_p['audiences'].str.contains(r'Food')]\n",
    "\n",
    "recalls_p['audiences'].loc[recalls_p['audiences'].str.contains(r'Food', regex=True)] = slice_audience\n",
    "recalls_p['category'].loc[~recalls_p['category'].str.contains(r'Food', regex=True)] = slice_category\n",
    "\n",
    "# Passing correct recall class from audience_2 column to recall_class column by index and category from audience scolumns by index ref\n",
    "slice_class = recalls_p['audience_2'][recalls_p['audience_2'].str.contains(r'[Cc]lass', na=False)]\n",
    "recalls_p['recall_class'].loc[~recalls_p['recall_class'].str.contains(r'[Cc]lass', na=False)] = slice_class\n",
    "\n",
    "# Passing correct issue from company column to issue column by index\n",
    "slice_issue = recalls_p['company'][recalls_p['company'].str.contains(r'^Food', na=False)]\n",
    "recalls_p['issue'].loc[recalls_p['company'].str.contains(r'^Food', na=False)] = slice_issue"
   ]
  },
  {
   "cell_type": "code",
   "execution_count": 4,
   "id": "5fe660d8-d3f1-4649-b588-d615b2233932",
   "metadata": {},
   "outputs": [],
   "source": [
    "recalls_p.drop(['audience_2'], axis=1, inplace=True)"
   ]
  },
  {
   "cell_type": "markdown",
   "id": "975722d8-971e-4a56-867b-e4e702f6cfe8",
   "metadata": {},
   "source": [
    "### Filling null replacing values"
   ]
  },
  {
   "cell_type": "code",
   "execution_count": 5,
   "id": "01ef6887-26df-4be4-824a-b3f05acb721d",
   "metadata": {},
   "outputs": [],
   "source": [
    "recalls_p['audiences'] = recalls_p.audiences.fillna('General public')\n",
    "\n",
    "recalls_p['issue'] = recalls_p['issue'].str.replace('Food - ', '')\n",
    "recalls_p['category'] = recalls_p['category'].str.replace('Food - ', '')"
   ]
  },
  {
   "cell_type": "markdown",
   "id": "4e272759-f1d1-43c4-8975-6a623124d6f2",
   "metadata": {
    "tags": []
   },
   "source": [
    "### Regex Function to Extract Hazard, Product and Hazard Type"
   ]
  },
  {
   "cell_type": "code",
   "execution_count": 6,
   "id": "bc3e91b5-edbb-483d-a29c-a28a65e72e56",
   "metadata": {},
   "outputs": [],
   "source": [
    "def extract_hazard(s: str):\n",
    "    regex_1 = re.search(r'- (.*)$', s)\n",
    "    regex_2 = re.search(r', (.*)$,', s)\n",
    "    if regex_1:\n",
    "        return regex_1.group(1).capitalize()\n",
    "    elif regex_2:\n",
    "        return regex_2.group(1).capitalize()\n",
    "    else:\n",
    "        return s"
   ]
  },
  {
   "cell_type": "code",
   "execution_count": 7,
   "id": "d29f77a9-9f86-445e-ba00-acb53554a709",
   "metadata": {},
   "outputs": [],
   "source": [
    "def extract_product(s: str):\n",
    "    regex_1 = re.search(r'brands? (.*) recalled', s)\n",
    "    regex_2 = re.search(r'certain (.*) recalled', s)\n",
    "    regex_3 = re.search(r'brands? (.*) may be', s)\n",
    "    regex_11 = re.search(r'(.*) recalled due', s)\n",
    "    regex_4 = re.search(r'due (.*)$', s)\n",
    "    regex_5 = re.search(r'(.*?) brand', s)\n",
    "    regex_6 = re.search(r'contains? (.*)$', s)\n",
    "    regex_7 = re.search(r'certain (.*)$', s)\n",
    "    regex_8 = re.search(r'in (.*)$', s)\n",
    "    regex_9 = re.search(r'(.*) manufactured by', s)\n",
    "    regex_10 = re.search(r'(.*) (recalled)? by', s)\n",
    "    regex_11 = re.search(r'(.*) recalled due', s)\n",
    "    if regex_1:\n",
    "        return regex_1.group(1).capitalize()\n",
    "    elif regex_2:\n",
    "        return regex_2.group(1).capitalize()\n",
    "    elif regex_3:\n",
    "        return regex_3.group(1).capitalize()\n",
    "    elif regex_4:\n",
    "        return regex_4.group(1).capitalize()\n",
    "    elif regex_5:\n",
    "        return regex_5.group(1).capitalize()\n",
    "    elif regex_6:\n",
    "        return regex_6.group(1).capitalize()\n",
    "    elif regex_7:\n",
    "        return regex_7.group(1).capitalize()\n",
    "    elif regex_8:\n",
    "        return regex_8.group(1).capitalize()\n",
    "    elif regex_9:\n",
    "        return regex_9.group(1).capitalize()\n",
    "    elif regex_10:\n",
    "        return regex_10.group(1).capitalize()\n",
    "    elif regex_11:\n",
    "        return regex_11.group(1).capitalize()    \n",
    "    else:\n",
    "        return np.nan"
   ]
  },
  {
   "cell_type": "code",
   "execution_count": 8,
   "id": "e10d273c-da54-4fa4-bdb3-e5266b890423",
   "metadata": {},
   "outputs": [],
   "source": [
    "def extract_hazard_type(s: str):\n",
    "    regex_1 = re.search(r'(.*?) -', s)\n",
    "    regex_2 = re.search(r'(.*?),', s)\n",
    "    if regex_1:\n",
    "        return regex_1.group(1).capitalize()\n",
    "    elif regex_2:\n",
    "        return regex_2.group(1).capitalize()\n",
    "    else:\n",
    "        return s"
   ]
  },
  {
   "cell_type": "code",
   "execution_count": 9,
   "id": "b9d24fc2-63fb-48dc-bd2a-9821f6fbf83c",
   "metadata": {},
   "outputs": [],
   "source": [
    "def extract_distribution(s: str):\n",
    "    regex_1 = re.search(r'may have been (.*)', s)\n",
    "    regex_2 = re.search(r'sold in (.*)', s)\n",
    "    regex_3 = re.search(r'sold (.*)', s)\n",
    "    if regex_1:\n",
    "        return regex_1.group(1).capitalize()\n",
    "    elif regex_2:\n",
    "        return regex_2.group(1).capitalize()\n",
    "    elif regex_3:\n",
    "        return regex_3.group(1).capitalize()    \n",
    "    else:\n",
    "        return s"
   ]
  },
  {
   "cell_type": "code",
   "execution_count": 10,
   "id": "1f6cc3c3-bb1e-4f48-b457-5bc5adf1fc45",
   "metadata": {},
   "outputs": [
    {
     "data": {
      "text/html": [
       "<div>\n",
       "<style scoped>\n",
       "    .dataframe tbody tr th:only-of-type {\n",
       "        vertical-align: middle;\n",
       "    }\n",
       "\n",
       "    .dataframe tbody tr th {\n",
       "        vertical-align: top;\n",
       "    }\n",
       "\n",
       "    .dataframe thead th {\n",
       "        text-align: right;\n",
       "    }\n",
       "</style>\n",
       "<table border=\"1\" class=\"dataframe\">\n",
       "  <thead>\n",
       "    <tr style=\"text-align: right;\">\n",
       "      <th></th>\n",
       "      <th>index</th>\n",
       "      <th>title</th>\n",
       "      <th>recall_info</th>\n",
       "      <th>date</th>\n",
       "      <th>company</th>\n",
       "      <th>issue</th>\n",
       "      <th>audiences</th>\n",
       "      <th>category</th>\n",
       "      <th>recall_class</th>\n",
       "    </tr>\n",
       "  </thead>\n",
       "  <tbody>\n",
       "    <tr>\n",
       "      <th>0</th>\n",
       "      <td>0</td>\n",
       "      <td>Mrakovic Fine Foods brand Natural Chicken Burger recalled due to undeclared egg</td>\n",
       "      <td>Mrakovic Fine Foods brand Natural Chicken Burger recalled due to undeclared egg. The recalled product has been sold in Ontario.</td>\n",
       "      <td>2022-08-24</td>\n",
       "      <td>Mrakovic Fine Foods</td>\n",
       "      <td>Allergen - Egg</td>\n",
       "      <td>Retail</td>\n",
       "      <td>Meat and poultry - Frozen</td>\n",
       "      <td>Class 2</td>\n",
       "    </tr>\n",
       "    <tr>\n",
       "      <th>1</th>\n",
       "      <td>1</td>\n",
       "      <td>Life120 brand \"Ricotta Di Bufala Campana Dop\" recalled due to generic E. coli</td>\n",
       "      <td>Life120 brand \"Ricotta Di Bufala Campana Dop\" recalled due to generic E. coli. The recalled product has been sold in Quebec.</td>\n",
       "      <td>2022-08-24</td>\n",
       "      <td>Life120</td>\n",
       "      <td>Microbial Contamination - E. Coli - non-pathogenic</td>\n",
       "      <td>Retail</td>\n",
       "      <td>Dairy</td>\n",
       "      <td>Class 2</td>\n",
       "    </tr>\n",
       "    <tr>\n",
       "      <th>2</th>\n",
       "      <td>2</td>\n",
       "      <td>Food Recall Warning (Allergen) – Mastro San Daniele brand Charcuterie Trio – Prosciutto Cotto, Capocollo, Mortadella recalled due to undeclared milk</td>\n",
       "      <td>The affected product is being recalled from the marketplace because it contains milk which is not declared on the label.  The recalled product has been sold in British Columbia, Alberta, Ontario, New Brunswick, Nova Scotia, and may have been…</td>\n",
       "      <td>2022-08-19</td>\n",
       "      <td>Mastro San Daniele</td>\n",
       "      <td>Allergen - Milk</td>\n",
       "      <td>General public</td>\n",
       "      <td>Meat and poultry - Processed</td>\n",
       "      <td>Class 1</td>\n",
       "    </tr>\n",
       "    <tr>\n",
       "      <th>3</th>\n",
       "      <td>3</td>\n",
       "      <td>Food Recall Warning (Allergen) – Cache Cuisine brand Pro-licious Protein Pancake &amp; Waffle Mix recalled due to improperly undeclared milk</td>\n",
       "      <td>The affected product is being recalled from the marketplace because it contains milk which is improperly declared on the label.  The recalled product has been sold nationally.</td>\n",
       "      <td>2022-08-19</td>\n",
       "      <td>Cache Cuisine</td>\n",
       "      <td>Allergen - Milk</td>\n",
       "      <td>General public</td>\n",
       "      <td>Grain products</td>\n",
       "      <td>Class 2</td>\n",
       "    </tr>\n",
       "    <tr>\n",
       "      <th>4</th>\n",
       "      <td>4</td>\n",
       "      <td>Delizia brand Vegetarian Ham recalled due to undeclared gluten and wheat</td>\n",
       "      <td>Delizia brand Vegetarian Ham recalled due to undeclared gluten and wheat. The recalled product has been sold in Alberta, British Columbia, Manitoba and Ontario.</td>\n",
       "      <td>2022-08-19</td>\n",
       "      <td>Delizia</td>\n",
       "      <td>Allergen - Gluten</td>\n",
       "      <td>Retail</td>\n",
       "      <td>NaN</td>\n",
       "      <td>NaN</td>\n",
       "    </tr>\n",
       "  </tbody>\n",
       "</table>\n",
       "</div>"
      ],
      "text/plain": [
       "   index  \\\n",
       "0      0   \n",
       "1      1   \n",
       "2      2   \n",
       "3      3   \n",
       "4      4   \n",
       "\n",
       "                                                                                                                                                  title  \\\n",
       "0                                                                       Mrakovic Fine Foods brand Natural Chicken Burger recalled due to undeclared egg   \n",
       "1                                                                         Life120 brand \"Ricotta Di Bufala Campana Dop\" recalled due to generic E. coli   \n",
       "2  Food Recall Warning (Allergen) – Mastro San Daniele brand Charcuterie Trio – Prosciutto Cotto, Capocollo, Mortadella recalled due to undeclared milk   \n",
       "3              Food Recall Warning (Allergen) – Cache Cuisine brand Pro-licious Protein Pancake & Waffle Mix recalled due to improperly undeclared milk   \n",
       "4                                                                              Delizia brand Vegetarian Ham recalled due to undeclared gluten and wheat   \n",
       "\n",
       "                                                                                                                                                                                                                                          recall_info  \\\n",
       "0                                                                                                                     Mrakovic Fine Foods brand Natural Chicken Burger recalled due to undeclared egg. The recalled product has been sold in Ontario.   \n",
       "1                                                                                                                        Life120 brand \"Ricotta Di Bufala Campana Dop\" recalled due to generic E. coli. The recalled product has been sold in Quebec.   \n",
       "2  The affected product is being recalled from the marketplace because it contains milk which is not declared on the label.  The recalled product has been sold in British Columbia, Alberta, Ontario, New Brunswick, Nova Scotia, and may have been…   \n",
       "3                                                                     The affected product is being recalled from the marketplace because it contains milk which is improperly declared on the label.  The recalled product has been sold nationally.   \n",
       "4                                                                                    Delizia brand Vegetarian Ham recalled due to undeclared gluten and wheat. The recalled product has been sold in Alberta, British Columbia, Manitoba and Ontario.   \n",
       "\n",
       "        date              company  \\\n",
       "0 2022-08-24  Mrakovic Fine Foods   \n",
       "1 2022-08-24              Life120   \n",
       "2 2022-08-19   Mastro San Daniele   \n",
       "3 2022-08-19        Cache Cuisine   \n",
       "4 2022-08-19              Delizia   \n",
       "\n",
       "                                                issue       audiences  \\\n",
       "0                                      Allergen - Egg          Retail   \n",
       "1  Microbial Contamination - E. Coli - non-pathogenic          Retail   \n",
       "2                                     Allergen - Milk  General public   \n",
       "3                                     Allergen - Milk  General public   \n",
       "4                                   Allergen - Gluten          Retail   \n",
       "\n",
       "                       category recall_class  \n",
       "0     Meat and poultry - Frozen      Class 2  \n",
       "1                         Dairy      Class 2  \n",
       "2  Meat and poultry - Processed      Class 1  \n",
       "3                Grain products      Class 2  \n",
       "4                           NaN          NaN  "
      ]
     },
     "execution_count": 10,
     "metadata": {},
     "output_type": "execute_result"
    }
   ],
   "source": [
    "recalls_p.head()"
   ]
  },
  {
   "cell_type": "markdown",
   "id": "77e833ce-6e0e-4add-b7d8-2e1cbbfd0faa",
   "metadata": {},
   "source": [
    "### Extract Hazard, Product, Brand, Distribution and Hazard Type"
   ]
  },
  {
   "cell_type": "code",
   "execution_count": 11,
   "id": "a696e3a6-b2ee-4ef9-b48f-83715f9c7a47",
   "metadata": {},
   "outputs": [
    {
     "name": "stderr",
     "output_type": "stream",
     "text": [
      "C:\\Users\\Ale\\AppData\\Local\\Temp/ipykernel_25144/3711225394.py:5: FutureWarning: The default value of regex will change from True to False in a future version. In addition, single character regular expressions will *not* be treated as literal strings when regex=True.\n",
      "  recalls_p['distribution'] = recalls_p['distribution'].str.replace('.', '').str.replace('and', '').str.replace('online', '').str.strip()\n"
     ]
    }
   ],
   "source": [
    "recalls_p['title_lower'] = recalls_p['title'].str.lower()\n",
    "\n",
    "# Extracting distribution from recall_info column using regex matching function\n",
    "recalls_p['distribution'] = recalls_p['recall_info'].apply(extract_distribution)\n",
    "recalls_p['distribution'] = recalls_p['distribution'].str.replace('.', '').str.replace('and', '').str.replace('online', '').str.strip()\n",
    "\n",
    "# Create product column with extracted values from the title column\n",
    "recalls_p['product'] = recalls_p['title'].apply(extract_product)\n",
    "\n",
    "# Create brand column with extracted values from the title column\n",
    "recalls_p['brand'] = recalls_p['title'].str.extract(r'(.*?) brand')\n",
    "\n",
    "\n",
    "# Extracting hazard type from issue column using regex function\n",
    "recalls_p['hazard_type'] = recalls_p['issue'].apply(extract_hazard_type)\n",
    "\n",
    "# Extracting hazard from issue column using regex function\n",
    "recalls_p['hazard'] = recalls_p['issue'].apply(extract_hazard)"
   ]
  },
  {
   "cell_type": "markdown",
   "id": "fd3b475e-61bd-47ea-89e1-73212f111bd9",
   "metadata": {},
   "source": [
    "### Replace Values by Slice"
   ]
  },
  {
   "cell_type": "code",
   "execution_count": 12,
   "id": "014e2780-637d-49cb-b1db-5fe37b9faed3",
   "metadata": {},
   "outputs": [
    {
     "name": "stderr",
     "output_type": "stream",
     "text": [
      "C:\\Users\\Ale\\anaconda3\\lib\\site-packages\\pandas\\core\\indexing.py:1732: SettingWithCopyWarning: \n",
      "A value is trying to be set on a copy of a slice from a DataFrame\n",
      "\n",
      "See the caveats in the documentation: https://pandas.pydata.org/pandas-docs/stable/user_guide/indexing.html#returning-a-view-versus-a-copy\n",
      "  self._setitem_single_block(indexer, value, name)\n"
     ]
    }
   ],
   "source": [
    "recalls_p['distribution'].loc[recalls_p['distribution'].str.contains(r'Distributed', na=False)] = 'Nationally'\n",
    "recalls_p['hazard'].loc[recalls_p['hazard'].str.contains(r'non-pathogenic|other pathogenic', na=False)] = 'E. coli'\n",
    "recalls_p['hazard'].loc[recalls_p['hazard'].str.contains(r'Listeria', na=False)] = 'Listeria monocytogenes'\n",
    "recalls_p['hazard'].loc[recalls_p['hazard'].str.contains(r'[Qq]uality', na=False)] = 'Quality/Spoilage'\n",
    "recalls_p['audiences'].loc[recalls_p['audiences'].str.contains(r'Hotel', na=False)] = 'Hotel/Restaurant/Institutional'\n",
    "recalls_p['hazard'] = recalls_p['hazard'].str.replace('seeds', '')\n",
    "recalls_p['distribution'] = recalls_p['distribution'].str.replace(r'  ', ',', regex=True).str.strip().str.title()"
   ]
  },
  {
   "cell_type": "code",
   "execution_count": 13,
   "id": "52b5cd75-086f-47d7-8126-ffa8a00ff4e4",
   "metadata": {},
   "outputs": [
    {
     "data": {
      "text/plain": [
       "index            0\n",
       "title            0\n",
       "recall_info      0\n",
       "date             0\n",
       "company          0\n",
       "issue            0\n",
       "audiences        0\n",
       "category        15\n",
       "recall_class    17\n",
       "title_lower      0\n",
       "distribution     0\n",
       "product          0\n",
       "brand           24\n",
       "hazard_type      0\n",
       "hazard           0\n",
       "dtype: int64"
      ]
     },
     "execution_count": 13,
     "metadata": {},
     "output_type": "execute_result"
    }
   ],
   "source": [
    "recalls_p.isnull().sum()"
   ]
  },
  {
   "cell_type": "markdown",
   "id": "2d4c2138-2893-44d6-9c39-31c6d0b01c92",
   "metadata": {},
   "source": [
    "---"
   ]
  },
  {
   "cell_type": "code",
   "execution_count": 14,
   "id": "ed33d231-ce26-4784-ad3b-f2a761948a39",
   "metadata": {},
   "outputs": [],
   "source": [
    "# Select columns to keep\n",
    "recalls_p.rename(columns={'audiences': 'audience'}, inplace=True)\n",
    "\n",
    "recalls_p_clean = recalls_p[['index', 'title', 'date', 'hazard',\n",
    "                   'hazard_type','recall_class','audience',\n",
    "                   'distribution','brand','company','product']]"
   ]
  },
  {
   "cell_type": "code",
   "execution_count": 15,
   "id": "101c7dd1-3199-4586-840e-69af18c53932",
   "metadata": {},
   "outputs": [
    {
     "data": {
      "text/plain": [
       "(193, 11)"
      ]
     },
     "execution_count": 15,
     "metadata": {},
     "output_type": "execute_result"
    }
   ],
   "source": [
    "recalls_p_clean.shape"
   ]
  },
  {
   "cell_type": "code",
   "execution_count": 16,
   "id": "a778ddc9-9315-4d89-b01f-11df657a334a",
   "metadata": {},
   "outputs": [],
   "source": [
    "# recalls_p_clean.to_csv('recalls-clean-2022-1.csv')"
   ]
  },
  {
   "cell_type": "markdown",
   "id": "5585d539-ff01-4b63-a174-e556501a1602",
   "metadata": {},
   "source": [
    "## Reference"
   ]
  },
  {
   "cell_type": "code",
   "execution_count": 17,
   "id": "5e54d25c-1e61-4424-b385-e3e7e5680912",
   "metadata": {},
   "outputs": [],
   "source": [
    "# recalls_p.distribution.value_counts()"
   ]
  },
  {
   "cell_type": "code",
   "execution_count": 18,
   "id": "18f3057c-e9ca-4372-9ad5-156b6d2dfc17",
   "metadata": {},
   "outputs": [],
   "source": [
    "# print(recalls_p.audiences.value_counts())"
   ]
  },
  {
   "cell_type": "code",
   "execution_count": 19,
   "id": "cf6a0597-f6f7-405f-84db-cc395b47a8be",
   "metadata": {},
   "outputs": [],
   "source": [
    "# recalls_p.hazard.value_counts()"
   ]
  },
  {
   "cell_type": "code",
   "execution_count": 20,
   "id": "07c4292e-7d94-4cc5-bf50-473c100aa239",
   "metadata": {},
   "outputs": [],
   "source": [
    "# print(recalls_p.category.value_counts())"
   ]
  },
  {
   "cell_type": "code",
   "execution_count": 21,
   "id": "feccf396-9b7f-4747-999f-d95ff801ee40",
   "metadata": {},
   "outputs": [],
   "source": [
    "# print(recalls_p.recall_class.value_counts())"
   ]
  }
 ],
 "metadata": {
  "kernelspec": {
   "display_name": "Python 3 (ipykernel)",
   "language": "python",
   "name": "python3"
  },
  "language_info": {
   "codemirror_mode": {
    "name": "ipython",
    "version": 3
   },
   "file_extension": ".py",
   "mimetype": "text/x-python",
   "name": "python",
   "nbconvert_exporter": "python",
   "pygments_lexer": "ipython3",
   "version": "3.9.7"
  }
 },
 "nbformat": 4,
 "nbformat_minor": 5
}
