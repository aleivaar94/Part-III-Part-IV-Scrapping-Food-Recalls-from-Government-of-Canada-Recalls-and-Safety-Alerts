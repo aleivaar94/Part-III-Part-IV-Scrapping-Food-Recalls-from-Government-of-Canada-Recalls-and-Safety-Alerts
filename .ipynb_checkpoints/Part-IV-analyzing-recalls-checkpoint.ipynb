{
 "cells": [
  {
   "cell_type": "markdown",
   "id": "b03be33f-0bbc-4326-aa69-2630c8a6ba12",
   "metadata": {},
   "source": [
    "# Analyzing and Visualizing Recalls 2011-2022"
   ]
  },
  {
   "cell_type": "code",
   "execution_count": 1,
   "id": "f189cb73-7c02-452e-8977-5bce7ac1aa35",
   "metadata": {},
   "outputs": [
    {
     "name": "stderr",
     "output_type": "stream",
     "text": [
      "C:\\Users\\Ale\\anaconda3\\lib\\site-packages\\pandas\\core\\indexing.py:1732: SettingWithCopyWarning: \n",
      "A value is trying to be set on a copy of a slice from a DataFrame\n",
      "\n",
      "See the caveats in the documentation: https://pandas.pydata.org/pandas-docs/stable/user_guide/indexing.html#returning-a-view-versus-a-copy\n",
      "  self._setitem_single_block(indexer, value, name)\n"
     ]
    }
   ],
   "source": [
    "import os, glob\n",
    "import pandas as pd\n",
    "import numpy as np\n",
    "import re\n",
    "import matplotlib.pyplot as plt\n",
    "import seaborn as sns\n",
    "\n",
    "pd.set_option('display.max_colwidth', None)\n",
    "pd.set_option('display.max_rows', None)\n",
    "\n",
    "# Loading data. Each year of recalls is stored in csv file\n",
    "files = glob.glob('recalls-clean-2022*.csv')\n",
    "df_list = []\n",
    "for file in files:\n",
    "    df = pd.read_csv(file)\n",
    "    df_list.append(df)\n",
    "\n",
    "recalls = pd.concat(df_list, axis=0, ignore_index=True)\n",
    "\n",
    "recalls.drop(['Unnamed: 0'], axis=1, inplace=True)\n",
    "recalls.reset_index(inplace=True, drop=True)\n",
    "recalls['date'] = pd.to_datetime(recalls.date, format='%Y-%m-%d')\n",
    "recalls.sort_values('date', inplace=True, ascending=False)\n",
    "\n",
    "recalls['hazard_type'].loc[recalls['hazard_type'].str.contains(r'Microbial contamination', na=False)] = 'Microbiological'"
   ]
  },
  {
   "cell_type": "code",
   "execution_count": 2,
   "id": "200c39fc-8e1b-4fab-8d6b-b957e17b12cd",
   "metadata": {},
   "outputs": [
    {
     "data": {
      "text/plain": [
       "(3893, 11)"
      ]
     },
     "execution_count": 2,
     "metadata": {},
     "output_type": "execute_result"
    }
   ],
   "source": [
    "recalls.shape"
   ]
  },
  {
   "cell_type": "code",
   "execution_count": 3,
   "id": "03bc6197-ae00-4ef0-a97c-aaeb13c3765d",
   "metadata": {},
   "outputs": [],
   "source": [
    "# recalls.hazard.value_counts().to_frame().reset_index().sort_values('hazard', ascending=False)"
   ]
  },
  {
   "cell_type": "markdown",
   "id": "556baecc-52d5-4d0f-a733-f87c3d245555",
   "metadata": {},
   "source": [
    "## Recalls per Class"
   ]
  },
  {
   "cell_type": "code",
   "execution_count": 4,
   "id": "b3ae5c28-f045-4d71-83c6-60e36f49b883",
   "metadata": {},
   "outputs": [
    {
     "data": {
      "text/html": [
       "<div>\n",
       "<style scoped>\n",
       "    .dataframe tbody tr th:only-of-type {\n",
       "        vertical-align: middle;\n",
       "    }\n",
       "\n",
       "    .dataframe tbody tr th {\n",
       "        vertical-align: top;\n",
       "    }\n",
       "\n",
       "    .dataframe thead th {\n",
       "        text-align: right;\n",
       "    }\n",
       "</style>\n",
       "<table border=\"1\" class=\"dataframe\">\n",
       "  <thead>\n",
       "    <tr style=\"text-align: right;\">\n",
       "      <th></th>\n",
       "      <th>recall_class</th>\n",
       "    </tr>\n",
       "  </thead>\n",
       "  <tbody>\n",
       "    <tr>\n",
       "      <th>Class 1</th>\n",
       "      <td>0.354839</td>\n",
       "    </tr>\n",
       "    <tr>\n",
       "      <th>Class 2</th>\n",
       "      <td>0.322323</td>\n",
       "    </tr>\n",
       "    <tr>\n",
       "      <th>Class 3</th>\n",
       "      <td>0.313806</td>\n",
       "    </tr>\n",
       "  </tbody>\n",
       "</table>\n",
       "</div>"
      ],
      "text/plain": [
       "         recall_class\n",
       "Class 1      0.354839\n",
       "Class 2      0.322323\n",
       "Class 3      0.313806"
      ]
     },
     "execution_count": 4,
     "metadata": {},
     "output_type": "execute_result"
    }
   ],
   "source": [
    "class_recall = recalls.recall_class.value_counts(normalize=True).head(3).to_frame()\n",
    "class_recall.head()\n",
    "# class_recall.to_csv('recalls-class.csv')"
   ]
  },
  {
   "cell_type": "markdown",
   "id": "cb14d817-5fe0-4996-bf0a-d38dbc9c0b6a",
   "metadata": {
    "tags": []
   },
   "source": [
    "# Recalls per Year"
   ]
  },
  {
   "cell_type": "code",
   "execution_count": 5,
   "id": "03158189-9e54-4fd9-b68d-a0da933efa1e",
   "metadata": {},
   "outputs": [
    {
     "data": {
      "text/html": [
       "<div>\n",
       "<style scoped>\n",
       "    .dataframe tbody tr th:only-of-type {\n",
       "        vertical-align: middle;\n",
       "    }\n",
       "\n",
       "    .dataframe tbody tr th {\n",
       "        vertical-align: top;\n",
       "    }\n",
       "\n",
       "    .dataframe thead th {\n",
       "        text-align: right;\n",
       "    }\n",
       "</style>\n",
       "<table border=\"1\" class=\"dataframe\">\n",
       "  <thead>\n",
       "    <tr style=\"text-align: right;\">\n",
       "      <th></th>\n",
       "      <th>index</th>\n",
       "      <th>date</th>\n",
       "    </tr>\n",
       "  </thead>\n",
       "  <tbody>\n",
       "    <tr>\n",
       "      <th>0</th>\n",
       "      <td>2011</td>\n",
       "      <td>401</td>\n",
       "    </tr>\n",
       "    <tr>\n",
       "      <th>1</th>\n",
       "      <td>2012</td>\n",
       "      <td>386</td>\n",
       "    </tr>\n",
       "    <tr>\n",
       "      <th>2</th>\n",
       "      <td>2013</td>\n",
       "      <td>398</td>\n",
       "    </tr>\n",
       "    <tr>\n",
       "      <th>3</th>\n",
       "      <td>2014</td>\n",
       "      <td>547</td>\n",
       "    </tr>\n",
       "    <tr>\n",
       "      <th>4</th>\n",
       "      <td>2015</td>\n",
       "      <td>357</td>\n",
       "    </tr>\n",
       "    <tr>\n",
       "      <th>5</th>\n",
       "      <td>2016</td>\n",
       "      <td>379</td>\n",
       "    </tr>\n",
       "    <tr>\n",
       "      <th>6</th>\n",
       "      <td>2017</td>\n",
       "      <td>305</td>\n",
       "    </tr>\n",
       "    <tr>\n",
       "      <th>7</th>\n",
       "      <td>2018</td>\n",
       "      <td>267</td>\n",
       "    </tr>\n",
       "    <tr>\n",
       "      <th>8</th>\n",
       "      <td>2019</td>\n",
       "      <td>279</td>\n",
       "    </tr>\n",
       "    <tr>\n",
       "      <th>9</th>\n",
       "      <td>2020</td>\n",
       "      <td>212</td>\n",
       "    </tr>\n",
       "    <tr>\n",
       "      <th>10</th>\n",
       "      <td>2021</td>\n",
       "      <td>228</td>\n",
       "    </tr>\n",
       "  </tbody>\n",
       "</table>\n",
       "</div>"
      ],
      "text/plain": [
       "    index  date\n",
       "0    2011   401\n",
       "1    2012   386\n",
       "2    2013   398\n",
       "3    2014   547\n",
       "4    2015   357\n",
       "5    2016   379\n",
       "6    2017   305\n",
       "7    2018   267\n",
       "8    2019   279\n",
       "9    2020   212\n",
       "10   2021   228"
      ]
     },
     "execution_count": 5,
     "metadata": {},
     "output_type": "execute_result"
    }
   ],
   "source": [
    "no_recalls = recalls['date'].dt.year.value_counts().to_frame().reset_index().sort_values('index').reset_index(drop=True)\n",
    "avg_recalls = no_recalls.iloc[:11]\n",
    "# avg_recalls['date'].mean()\n",
    "# avg_recalls.to_csv('recalls-per-year.csv')\n",
    "avg_recalls"
   ]
  },
  {
   "cell_type": "code",
   "execution_count": 6,
   "id": "58cd0ef1-2c7c-4a5b-a49d-745e125aed63",
   "metadata": {},
   "outputs": [
    {
     "data": {
      "image/png": "[encoded data removed]",
      "text/plain": [
       "<Figure size 720x360 with 1 Axes>"
      ]
     },
     "metadata": {
      "needs_background": "light"
     },
     "output_type": "display_data"
    }
   ],
   "source": [
    "plt.figure(figsize=(10,5))\n",
    "# plt.plot('index|', 'date', data=avg_recalls)\n",
    "ax= sns.lineplot(x='index', y='date', data=avg_recalls, linewidth=3, color='red', marker='o')\n",
    "plt.ylabel('Number of Recalls')\n",
    "plt.xlabel('')\n",
    "plt.title('Title')\n",
    "\n",
    "# label points on the plot\n",
    "for x, y in zip(avg_recalls['index'], avg_recalls['date']):\n",
    "    plt.text(x = x+0.1, # x-coordinate position of data label\n",
    "             y = y+3, # y-coordinate position of data label, adjusted to be 150 below the data point\n",
    "             s = '{:.0f}'.format(y), # data label, formatted to ignore decimals\n",
    "             color = 'black') # set colour of line\n",
    "# plt.xticks(avg_recalls.index)\n",
    "# ax.set_xticks(range(len(avg_recalls)))\n",
    "# ax.set_xticklabels(avg_recalls['index'], minor=False, rotation=45)"
   ]
  },
  {
   "cell_type": "markdown",
   "id": "db704f0f-5dc5-435b-960c-f6cf4461cbbd",
   "metadata": {},
   "source": [
    "## Recalls per Hazard"
   ]
  },
  {
   "cell_type": "code",
   "execution_count": 7,
   "id": "e7c259ef-d852-49af-a0f4-a8aadebd427e",
   "metadata": {},
   "outputs": [],
   "source": [
    "year_recalls = recalls.copy()\n",
    "\n",
    "year_recalls['year'] = year_recalls['date'].dt.year\n",
    "year_recalls['month'] = year_recalls['date'].dt.month_name()\n",
    "\n",
    "year_recalls = year_recalls.groupby(['year', 'hazard_type'])['hazard_type'].size().to_frame()\n",
    "year_recalls.rename(columns={'hazard_type': 'count'}, inplace=True)\n",
    "year_recalls.reset_index(inplace=True)\n",
    "year_recalls = year_recalls[year_recalls.hazard_type.isin(['Allergen', 'Chemical', 'Extraneous Material', 'Microbiological'])].sort_values(['year', 'count'])\n",
    "# year_recalls.to_csv('recalls-per-year-type.csv')"
   ]
  },
  {
   "cell_type": "code",
   "execution_count": 8,
   "id": "77069322-72e7-449d-a79c-21e84367562d",
   "metadata": {},
   "outputs": [
    {
     "data": {
      "text/plain": [
       "<matplotlib.legend.Legend at 0x19eac19a130>"
      ]
     },
     "execution_count": 8,
     "metadata": {},
     "output_type": "execute_result"
    },
    {
     "data": {
      "image/png": "[encoded data removed]",
      "text/plain": [
       "<Figure size 540x360 with 1 Axes>"
      ]
     },
     "metadata": {
      "needs_background": "light"
     },
     "output_type": "display_data"
    }
   ],
   "source": [
    "ax = sns.catplot(x='count', \n",
    "                 y='year', \n",
    "                 hue='hazard_type', \n",
    "                 kind='bar',\n",
    "                 orient='h',\n",
    "                 data=year_recalls, \n",
    "                 height=5, \n",
    "                 aspect=1.5,\n",
    "                 hue_order=['Allergen', 'Microbiological', 'Extraneous Material', 'Chemical'],\n",
    "                 legend=False,\n",
    "                 palette='colorblind')\n",
    "plt.xlabel('Number of Recalls')\n",
    "plt.ylabel('')\n",
    "plt.legend(title='Hazard Type')"
   ]
  },
  {
   "cell_type": "code",
   "execution_count": 9,
   "id": "02bc84d3-3b65-44c1-8297-2cc0b1514fea",
   "metadata": {},
   "outputs": [],
   "source": [
    "type_recalls = recalls['hazard_type'].value_counts(normalize=True).to_frame().reset_index().head()\n",
    "type_recalls.sort_values('hazard_type', inplace=True, ascending=False)\n",
    "# type_recalls.to_csv('recalls-type.csv')"
   ]
  },
  {
   "cell_type": "code",
   "execution_count": 10,
   "id": "2ce54740-fa8a-451a-8d66-969e4178ef4a",
   "metadata": {},
   "outputs": [],
   "source": [
    "diff = 1-type_recalls.hazard_type.sum()"
   ]
  },
  {
   "cell_type": "code",
   "execution_count": 11,
   "id": "8f74eca2-ef95-4e85-a348-30a80777c0d4",
   "metadata": {},
   "outputs": [
    {
     "data": {
      "text/html": [
       "<div>\n",
       "<style scoped>\n",
       "    .dataframe tbody tr th:only-of-type {\n",
       "        vertical-align: middle;\n",
       "    }\n",
       "\n",
       "    .dataframe tbody tr th {\n",
       "        vertical-align: top;\n",
       "    }\n",
       "\n",
       "    .dataframe thead th {\n",
       "        text-align: right;\n",
       "    }\n",
       "</style>\n",
       "<table border=\"1\" class=\"dataframe\">\n",
       "  <thead>\n",
       "    <tr style=\"text-align: right;\">\n",
       "      <th></th>\n",
       "      <th>index</th>\n",
       "      <th>hazard_type</th>\n",
       "    </tr>\n",
       "  </thead>\n",
       "  <tbody>\n",
       "    <tr>\n",
       "      <th>0</th>\n",
       "      <td>Allergen</td>\n",
       "      <td>0.456203</td>\n",
       "    </tr>\n",
       "    <tr>\n",
       "      <th>1</th>\n",
       "      <td>Microbiological</td>\n",
       "      <td>0.342409</td>\n",
       "    </tr>\n",
       "    <tr>\n",
       "      <th>2</th>\n",
       "      <td>Extraneous Material</td>\n",
       "      <td>0.114821</td>\n",
       "    </tr>\n",
       "    <tr>\n",
       "      <th>3</th>\n",
       "      <td>Chemical</td>\n",
       "      <td>0.039815</td>\n",
       "    </tr>\n",
       "    <tr>\n",
       "      <th>4</th>\n",
       "      <td>Other</td>\n",
       "      <td>0.046751</td>\n",
       "    </tr>\n",
       "  </tbody>\n",
       "</table>\n",
       "</div>"
      ],
      "text/plain": [
       "                 index  hazard_type\n",
       "0             Allergen     0.456203\n",
       "1      Microbiological     0.342409\n",
       "2  Extraneous Material     0.114821\n",
       "3             Chemical     0.039815\n",
       "4                Other     0.046751"
      ]
     },
     "execution_count": 11,
     "metadata": {},
     "output_type": "execute_result"
    }
   ],
   "source": [
    "type_recalls.iloc[4:5,1:2] = 0.025944 + diff\n",
    "type_recalls"
   ]
  },
  {
   "cell_type": "markdown",
   "id": "a98c2222-3c51-40ef-a73b-26a05f2ddcee",
   "metadata": {
    "tags": []
   },
   "source": [
    "## Explode Hazard and Distribution (Transform each element separated by a comma, replicating index values in the dataframe)."
   ]
  },
  {
   "cell_type": "code",
   "execution_count": 12,
   "id": "b4bdbb0e-801b-4113-90eb-a7e712d1243f",
   "metadata": {},
   "outputs": [],
   "source": [
    "recalls_clean = recalls.copy()\n",
    "recalls_clean['hazard_explode'] = recalls_clean.hazard.str.split(',')\n",
    "recalls_clean['distribution_explode'] = recalls_clean.distribution.str.split(',')\n",
    "\n",
    "recalls_explode = recalls_clean.explode('hazard_explode').explode('distribution_explode').reset_index()\n",
    "\n",
    "recalls_explode.drop(columns=['hazard', 'distribution'], inplace=True)\n",
    "recalls_explode = recalls_explode.rename(columns={'level_0': 'index_clean', 'index':'index_links',\n",
    "                                 'hazard_explode':'hazard', 'distribution_explode':'distribution'})\n",
    "\n",
    "recalls_explode['hazard'] = recalls_explode.hazard.str.strip().str.capitalize()\n",
    "recalls_explode['distribution'] = recalls_explode.distribution.str.strip()"
   ]
  },
  {
   "cell_type": "code",
   "execution_count": 13,
   "id": "bb1daf22-4f61-4c59-ad38-c0554593f590",
   "metadata": {},
   "outputs": [],
   "source": [
    "# Selecting relevant columns\n",
    "recalls_explode = recalls_explode[['index_clean', 'index_links', 'title',\n",
    "                             'date','hazard_type', 'hazard', 'recall_class','audience',\n",
    "                             'distribution','brand','product', 'company']]"
   ]
  },
  {
   "cell_type": "markdown",
   "id": "444296f0-3fd2-47c6-81aa-792c064f4b5e",
   "metadata": {
    "tags": []
   },
   "source": [
    "### Final Clean on Distribution Column"
   ]
  },
  {
   "cell_type": "code",
   "execution_count": 14,
   "id": "b80ad317-f415-4f73-98b5-6120e67db39b",
   "metadata": {},
   "outputs": [],
   "source": [
    "# This function is based on a text cleaning function developed by Matt Harrison.\n",
    "\n",
    "def generalize(ser, match_name, default=None, regex=False, case=False):\n",
    "    \"\"\" Search a series for text matches.\n",
    "    Based on code from https://www.metasnake.com/blog/pydata-assign.html\n",
    "\n",
    "    ser: pandas series to search\n",
    "    match_name: tuple containing text to search for and text to use for normalization\n",
    "    default: If no match, use this to provide a default value, otherwise use the original text\n",
    "    regex: Boolean to indicate if match_name contains a  regular expression\n",
    "    case: Case sensitive search\n",
    "\n",
    "    Returns a pandas series with the matched value\n",
    "\n",
    "    \"\"\"\n",
    "    seen = None\n",
    "    for match, name in match_name:\n",
    "        mask = ser.str.contains(match, case=case, regex=regex)\n",
    "        if seen is None:\n",
    "            seen = mask\n",
    "        else:\n",
    "            seen |= mask\n",
    "        ser = ser.where(~mask, name)\n",
    "    if default:\n",
    "        ser = ser.where(seen, default)\n",
    "    else:\n",
    "        ser = ser.where(seen, ser.values)\n",
    "    return ser\n",
    "\n",
    "\n",
    "\n",
    "distribution_patterns = [('Newfoundl', 'New Foundland and Labrador'),\n",
    "                         ('Labrador', 'New Foundland and Labrador'),\n",
    "                         ('Prince Edward Isl', 'Prince Edward Island'),\n",
    "                         ('British Colombia', 'British Columbia')]"
   ]
  },
  {
   "cell_type": "markdown",
   "id": "d79d39d3-d39f-442f-a36a-9b790202864d",
   "metadata": {
    "tags": []
   },
   "source": [
    "### Final Clean on Hazard column"
   ]
  },
  {
   "cell_type": "code",
   "execution_count": 15,
   "id": "c8d61e6e-0ca0-47f9-b1c2-60d5f2b70a28",
   "metadata": {},
   "outputs": [],
   "source": [
    "hazard_patterns = [('Yeasts', 'Quality/spoilage'), ('Yeast', 'Quality/spoilage'),\n",
    "                   ('Walnuts', 'Walnut'), ('T?ree nuts', 'Tree nut'), ('Sulp?ites', 'Sulphites'),\n",
    "                   ('Sanitizer residue', 'Sanitizer'), ('Rock', 'Rocks'),\n",
    "                   ('Toxin patulin', 'Patulin'), ('Pistachios', 'Pistachio'),\n",
    "                   ('Peanuts', 'Peanut'), ('Moulds', 'Quality/spoilage'), ('Mould', 'Quality/spoilage'),\n",
    "                   ('Hazelnuts', 'Hazelnut'), ('Eggs', 'Egg'), ('Cashews', 'Cashew'),\n",
    "                   ('Almonds', 'Almond')]"
   ]
  },
  {
   "cell_type": "code",
   "execution_count": 16,
   "id": "e3481a00-c132-4e44-9322-d2a0e2cb8f69",
   "metadata": {},
   "outputs": [],
   "source": [
    "# Apply generalize function \n",
    "recalls_explode['distribution'] = generalize(recalls_explode['distribution'], distribution_patterns,  default=None, regex=True, case=False)"
   ]
  },
  {
   "cell_type": "code",
   "execution_count": 17,
   "id": "f8431987-8e7a-4b5b-a35c-1bf474b4fba5",
   "metadata": {},
   "outputs": [],
   "source": [
    "# Apply generalize function \n",
    "recalls_explode.hazard.fillna('', inplace=True)\n",
    "recalls_explode['hazard'] = generalize(recalls_explode['hazard'], hazard_patterns,  default=None, regex=True, case=False)"
   ]
  },
  {
   "cell_type": "code",
   "execution_count": 18,
   "id": "a6cf2114-5deb-4982-85d8-4bfc984df59a",
   "metadata": {},
   "outputs": [
    {
     "data": {
      "text/plain": [
       "(8346, 12)"
      ]
     },
     "execution_count": 18,
     "metadata": {},
     "output_type": "execute_result"
    }
   ],
   "source": [
    "recalls_explode.shape"
   ]
  },
  {
   "cell_type": "code",
   "execution_count": 19,
   "id": "21aa3695-c4dc-4c26-9c27-9fcc05f4ffb2",
   "metadata": {},
   "outputs": [],
   "source": [
    "# recalls_explode.head()"
   ]
  },
  {
   "cell_type": "markdown",
   "id": "b7c4184d-d6a1-434f-b3b2-a08e4b1fe530",
   "metadata": {
    "tags": []
   },
   "source": [
    "# Recalls per Type"
   ]
  },
  {
   "cell_type": "code",
   "execution_count": 20,
   "id": "f301fbea-6ed8-4473-9725-905364c67277",
   "metadata": {},
   "outputs": [
    {
     "data": {
      "text/html": [
       "<div>\n",
       "<style scoped>\n",
       "    .dataframe tbody tr th:only-of-type {\n",
       "        vertical-align: middle;\n",
       "    }\n",
       "\n",
       "    .dataframe tbody tr th {\n",
       "        vertical-align: top;\n",
       "    }\n",
       "\n",
       "    .dataframe thead th {\n",
       "        text-align: right;\n",
       "    }\n",
       "</style>\n",
       "<table border=\"1\" class=\"dataframe\">\n",
       "  <thead>\n",
       "    <tr style=\"text-align: right;\">\n",
       "      <th></th>\n",
       "      <th>index_clean</th>\n",
       "      <th>index_links</th>\n",
       "      <th>title</th>\n",
       "      <th>date</th>\n",
       "      <th>hazard_type</th>\n",
       "      <th>hazard</th>\n",
       "      <th>recall_class</th>\n",
       "      <th>audience</th>\n",
       "      <th>distribution</th>\n",
       "      <th>brand</th>\n",
       "      <th>product</th>\n",
       "      <th>company</th>\n",
       "    </tr>\n",
       "  </thead>\n",
       "  <tbody>\n",
       "    <tr>\n",
       "      <th>0</th>\n",
       "      <td>0</td>\n",
       "      <td>0</td>\n",
       "      <td>Mrakovic Fine Foods brand Natural Chicken Burger recalled due to undeclared egg</td>\n",
       "      <td>2022-08-24</td>\n",
       "      <td>Allergen</td>\n",
       "      <td>Egg</td>\n",
       "      <td>Class 2</td>\n",
       "      <td>Retail</td>\n",
       "      <td>Ontario</td>\n",
       "      <td>Mrakovic Fine Foods</td>\n",
       "      <td>Natural chicken burger</td>\n",
       "      <td>Mrakovic Fine Foods</td>\n",
       "    </tr>\n",
       "    <tr>\n",
       "      <th>1</th>\n",
       "      <td>1</td>\n",
       "      <td>1</td>\n",
       "      <td>Life120 brand \"Ricotta Di Bufala Campana Dop\" recalled due to generic E. coli</td>\n",
       "      <td>2022-08-24</td>\n",
       "      <td>Microbiological</td>\n",
       "      <td>E. coli</td>\n",
       "      <td>Class 2</td>\n",
       "      <td>Retail</td>\n",
       "      <td>Quebec</td>\n",
       "      <td>Life120</td>\n",
       "      <td>\"ricotta di bufala campana dop\"</td>\n",
       "      <td>Life120</td>\n",
       "    </tr>\n",
       "    <tr>\n",
       "      <th>2</th>\n",
       "      <td>2</td>\n",
       "      <td>2</td>\n",
       "      <td>Food Recall Warning (Allergen) – Mastro San Daniele brand Charcuterie Trio – Prosciutto Cotto, Capocollo, Mortadella recalled due to undeclared milk</td>\n",
       "      <td>2022-08-19</td>\n",
       "      <td>Allergen</td>\n",
       "      <td>Milk</td>\n",
       "      <td>Class 1</td>\n",
       "      <td>General public</td>\n",
       "      <td>British Columbia</td>\n",
       "      <td>Food Recall Warning (Allergen) – Mastro San Daniele</td>\n",
       "      <td>Charcuterie trio – prosciutto cotto, capocollo, mortadella</td>\n",
       "      <td>Mastro San Daniele</td>\n",
       "    </tr>\n",
       "  </tbody>\n",
       "</table>\n",
       "</div>"
      ],
      "text/plain": [
       "   index_clean  index_links  \\\n",
       "0            0            0   \n",
       "1            1            1   \n",
       "2            2            2   \n",
       "\n",
       "                                                                                                                                                  title  \\\n",
       "0                                                                       Mrakovic Fine Foods brand Natural Chicken Burger recalled due to undeclared egg   \n",
       "1                                                                         Life120 brand \"Ricotta Di Bufala Campana Dop\" recalled due to generic E. coli   \n",
       "2  Food Recall Warning (Allergen) – Mastro San Daniele brand Charcuterie Trio – Prosciutto Cotto, Capocollo, Mortadella recalled due to undeclared milk   \n",
       "\n",
       "        date      hazard_type   hazard recall_class        audience  \\\n",
       "0 2022-08-24         Allergen      Egg      Class 2          Retail   \n",
       "1 2022-08-24  Microbiological  E. coli      Class 2          Retail   \n",
       "2 2022-08-19         Allergen     Milk      Class 1  General public   \n",
       "\n",
       "       distribution                                                brand  \\\n",
       "0           Ontario                                  Mrakovic Fine Foods   \n",
       "1            Quebec                                              Life120   \n",
       "2  British Columbia  Food Recall Warning (Allergen) – Mastro San Daniele   \n",
       "\n",
       "                                                      product  \\\n",
       "0                                      Natural chicken burger   \n",
       "1                             \"ricotta di bufala campana dop\"   \n",
       "2  Charcuterie trio – prosciutto cotto, capocollo, mortadella   \n",
       "\n",
       "               company  \n",
       "0  Mrakovic Fine Foods  \n",
       "1              Life120  \n",
       "2   Mastro San Daniele  "
      ]
     },
     "execution_count": 20,
     "metadata": {},
     "output_type": "execute_result"
    }
   ],
   "source": [
    "recalls_explode.head(3)"
   ]
  },
  {
   "cell_type": "markdown",
   "id": "62a83cb2-8282-405e-9e58-129c430ea3e0",
   "metadata": {
    "tags": []
   },
   "source": [
    "## Allergen"
   ]
  },
  {
   "cell_type": "code",
   "execution_count": 21,
   "id": "bb468515-dfa0-4075-b250-28dda0e70793",
   "metadata": {},
   "outputs": [],
   "source": [
    "# recalls_explode[recalls_explode['hazard'].str.contains(r'[Ee]gg')]"
   ]
  },
  {
   "cell_type": "code",
   "execution_count": 22,
   "id": "be5ad663-f9c0-41d6-80a4-2461ee782b70",
   "metadata": {},
   "outputs": [
    {
     "data": {
      "text/html": [
       "<div>\n",
       "<style scoped>\n",
       "    .dataframe tbody tr th:only-of-type {\n",
       "        vertical-align: middle;\n",
       "    }\n",
       "\n",
       "    .dataframe tbody tr th {\n",
       "        vertical-align: top;\n",
       "    }\n",
       "\n",
       "    .dataframe thead th {\n",
       "        text-align: right;\n",
       "    }\n",
       "</style>\n",
       "<table border=\"1\" class=\"dataframe\">\n",
       "  <thead>\n",
       "    <tr style=\"text-align: right;\">\n",
       "      <th></th>\n",
       "      <th>index</th>\n",
       "      <th>hazard</th>\n",
       "    </tr>\n",
       "  </thead>\n",
       "  <tbody>\n",
       "    <tr>\n",
       "      <th>0</th>\n",
       "      <td>Milk</td>\n",
       "      <td>0.262518</td>\n",
       "    </tr>\n",
       "    <tr>\n",
       "      <th>1</th>\n",
       "      <td>Egg</td>\n",
       "      <td>0.123538</td>\n",
       "    </tr>\n",
       "    <tr>\n",
       "      <th>2</th>\n",
       "      <td>Wheat</td>\n",
       "      <td>0.090314</td>\n",
       "    </tr>\n",
       "    <tr>\n",
       "      <th>3</th>\n",
       "      <td>Sulphites</td>\n",
       "      <td>0.078849</td>\n",
       "    </tr>\n",
       "    <tr>\n",
       "      <th>4</th>\n",
       "      <td>Mustard</td>\n",
       "      <td>0.067384</td>\n",
       "    </tr>\n",
       "    <tr>\n",
       "      <th>5</th>\n",
       "      <td>Peanut</td>\n",
       "      <td>0.057557</td>\n",
       "    </tr>\n",
       "    <tr>\n",
       "      <th>6</th>\n",
       "      <td>Gluten</td>\n",
       "      <td>0.050772</td>\n",
       "    </tr>\n",
       "    <tr>\n",
       "      <th>7</th>\n",
       "      <td>Soy</td>\n",
       "      <td>0.046327</td>\n",
       "    </tr>\n",
       "    <tr>\n",
       "      <th>8</th>\n",
       "      <td>Sesame</td>\n",
       "      <td>0.039307</td>\n",
       "    </tr>\n",
       "    <tr>\n",
       "      <th>9</th>\n",
       "      <td>Almond</td>\n",
       "      <td>0.034160</td>\n",
       "    </tr>\n",
       "    <tr>\n",
       "      <th>10</th>\n",
       "      <td>Cashew</td>\n",
       "      <td>0.015676</td>\n",
       "    </tr>\n",
       "  </tbody>\n",
       "</table>\n",
       "</div>"
      ],
      "text/plain": [
       "        index    hazard\n",
       "0        Milk  0.262518\n",
       "1         Egg  0.123538\n",
       "2       Wheat  0.090314\n",
       "3   Sulphites  0.078849\n",
       "4     Mustard  0.067384\n",
       "5      Peanut  0.057557\n",
       "6      Gluten  0.050772\n",
       "7         Soy  0.046327\n",
       "8      Sesame  0.039307\n",
       "9      Almond  0.034160\n",
       "10     Cashew  0.015676"
      ]
     },
     "execution_count": 22,
     "metadata": {},
     "output_type": "execute_result"
    }
   ],
   "source": [
    "allergen = recalls_explode[recalls_explode['hazard_type'] == 'Allergen']\n",
    "allergen = allergen.hazard.value_counts(normalize=True).to_frame().reset_index()\n",
    "allergen = allergen.sort_values('hazard', ascending=False).head(11)\n",
    "allergen\n",
    "# allergen.to_csv('allergen-top.csv')"
   ]
  },
  {
   "cell_type": "markdown",
   "id": "252d55ba-622e-4a04-b539-54ab1a20e6a0",
   "metadata": {},
   "source": [
    "## Microbiological"
   ]
  },
  {
   "cell_type": "code",
   "execution_count": 23,
   "id": "c9abee70-6365-4b13-945f-f7f0e5de0070",
   "metadata": {},
   "outputs": [
    {
     "data": {
      "text/html": [
       "<div>\n",
       "<style scoped>\n",
       "    .dataframe tbody tr th:only-of-type {\n",
       "        vertical-align: middle;\n",
       "    }\n",
       "\n",
       "    .dataframe tbody tr th {\n",
       "        vertical-align: top;\n",
       "    }\n",
       "\n",
       "    .dataframe thead th {\n",
       "        text-align: right;\n",
       "    }\n",
       "</style>\n",
       "<table border=\"1\" class=\"dataframe\">\n",
       "  <thead>\n",
       "    <tr style=\"text-align: right;\">\n",
       "      <th></th>\n",
       "      <th>index</th>\n",
       "      <th>hazard</th>\n",
       "    </tr>\n",
       "  </thead>\n",
       "  <tbody>\n",
       "    <tr>\n",
       "      <th>0</th>\n",
       "      <td>Salmonella</td>\n",
       "      <td>0.248468</td>\n",
       "    </tr>\n",
       "    <tr>\n",
       "      <th>1</th>\n",
       "      <td>Listeria monocytogenes</td>\n",
       "      <td>0.246016</td>\n",
       "    </tr>\n",
       "    <tr>\n",
       "      <th>2</th>\n",
       "      <td>Quality/spoilage</td>\n",
       "      <td>0.097262</td>\n",
       "    </tr>\n",
       "    <tr>\n",
       "      <th>3</th>\n",
       "      <td>E. coli o157:h7</td>\n",
       "      <td>0.090315</td>\n",
       "    </tr>\n",
       "    <tr>\n",
       "      <th>4</th>\n",
       "      <td>E. coli</td>\n",
       "      <td>0.069881</td>\n",
       "    </tr>\n",
       "  </tbody>\n",
       "</table>\n",
       "</div>"
      ],
      "text/plain": [
       "                    index    hazard\n",
       "0              Salmonella  0.248468\n",
       "1  Listeria monocytogenes  0.246016\n",
       "2        Quality/spoilage  0.097262\n",
       "3         E. coli o157:h7  0.090315\n",
       "4                 E. coli  0.069881"
      ]
     },
     "execution_count": 23,
     "metadata": {},
     "output_type": "execute_result"
    }
   ],
   "source": [
    "micro = recalls_explode[recalls_explode['hazard_type'] == 'Microbiological']\n",
    "micro = micro.hazard.value_counts(normalize=True).to_frame().reset_index()\n",
    "micro = micro.sort_values('hazard', ascending=False).head(5)\n",
    "micro\n",
    "# micro.to_csv('micro-top.csv')"
   ]
  },
  {
   "cell_type": "markdown",
   "id": "03e527ec-d084-4713-9df3-b8464a9bbc2f",
   "metadata": {},
   "source": [
    "## Physical"
   ]
  },
  {
   "cell_type": "code",
   "execution_count": 24,
   "id": "0385056b-b861-4429-ad0c-9f9e937f1e92",
   "metadata": {},
   "outputs": [],
   "source": [
    "phys = recalls_explode[recalls_explode['hazard_type'] == 'Extraneous Material']\n",
    "# phys[phys.hazard == 'Extraneous material']"
   ]
  },
  {
   "cell_type": "code",
   "execution_count": 25,
   "id": "7ce755d9-78e7-4c46-81db-9bf3788f8e1b",
   "metadata": {},
   "outputs": [
    {
     "data": {
      "text/html": [
       "<div>\n",
       "<style scoped>\n",
       "    .dataframe tbody tr th:only-of-type {\n",
       "        vertical-align: middle;\n",
       "    }\n",
       "\n",
       "    .dataframe tbody tr th {\n",
       "        vertical-align: top;\n",
       "    }\n",
       "\n",
       "    .dataframe thead th {\n",
       "        text-align: right;\n",
       "    }\n",
       "</style>\n",
       "<table border=\"1\" class=\"dataframe\">\n",
       "  <thead>\n",
       "    <tr style=\"text-align: right;\">\n",
       "      <th></th>\n",
       "      <th>index</th>\n",
       "      <th>hazard</th>\n",
       "    </tr>\n",
       "  </thead>\n",
       "  <tbody>\n",
       "    <tr>\n",
       "      <th>0</th>\n",
       "      <td>Metal</td>\n",
       "      <td>0.211712</td>\n",
       "    </tr>\n",
       "    <tr>\n",
       "      <th>1</th>\n",
       "      <td>Insects</td>\n",
       "      <td>0.183559</td>\n",
       "    </tr>\n",
       "    <tr>\n",
       "      <th>2</th>\n",
       "      <td>Extraneous material</td>\n",
       "      <td>0.174550</td>\n",
       "    </tr>\n",
       "    <tr>\n",
       "      <th>3</th>\n",
       "      <td>Glass</td>\n",
       "      <td>0.147523</td>\n",
       "    </tr>\n",
       "    <tr>\n",
       "      <th>4</th>\n",
       "      <td>Plastic</td>\n",
       "      <td>0.122748</td>\n",
       "    </tr>\n",
       "    <tr>\n",
       "      <th>5</th>\n",
       "      <td>Bone</td>\n",
       "      <td>0.032658</td>\n",
       "    </tr>\n",
       "    <tr>\n",
       "      <th>6</th>\n",
       "      <td>Stones</td>\n",
       "      <td>0.019144</td>\n",
       "    </tr>\n",
       "    <tr>\n",
       "      <th>7</th>\n",
       "      <td>Wood</td>\n",
       "      <td>0.019144</td>\n",
       "    </tr>\n",
       "    <tr>\n",
       "      <th>8</th>\n",
       "      <td>Rubber</td>\n",
       "      <td>0.011261</td>\n",
       "    </tr>\n",
       "    <tr>\n",
       "      <th>9</th>\n",
       "      <td>Rocks</td>\n",
       "      <td>0.007883</td>\n",
       "    </tr>\n",
       "    <tr>\n",
       "      <th>10</th>\n",
       "      <td></td>\n",
       "      <td>0.007883</td>\n",
       "    </tr>\n",
       "  </tbody>\n",
       "</table>\n",
       "</div>"
      ],
      "text/plain": [
       "                  index    hazard\n",
       "0                 Metal  0.211712\n",
       "1               Insects  0.183559\n",
       "2   Extraneous material  0.174550\n",
       "3                 Glass  0.147523\n",
       "4               Plastic  0.122748\n",
       "5                  Bone  0.032658\n",
       "6                Stones  0.019144\n",
       "7                  Wood  0.019144\n",
       "8                Rubber  0.011261\n",
       "9                 Rocks  0.007883\n",
       "10                       0.007883"
      ]
     },
     "execution_count": 25,
     "metadata": {},
     "output_type": "execute_result"
    }
   ],
   "source": [
    "phys = recalls_explode[recalls_explode['hazard_type'] == 'Extraneous Material']\n",
    "phys = phys.hazard.value_counts(normalize=True).to_frame().reset_index()\n",
    "phys.sort_values('hazard', ascending=False).head(11)"
   ]
  },
  {
   "cell_type": "markdown",
   "id": "85699173-ddc3-43ce-b1a4-048e8911afb9",
   "metadata": {},
   "source": [
    "## Chemical"
   ]
  },
  {
   "cell_type": "code",
   "execution_count": 26,
   "id": "c85664c4-7e2b-4258-8703-bdbacb88ec9d",
   "metadata": {},
   "outputs": [],
   "source": [
    "chem = recalls_explode[recalls_explode['hazard_type'] == 'Chemical']\n",
    "# chem = chem[chem['hazard'] == '']\n",
    "# chem"
   ]
  },
  {
   "cell_type": "code",
   "execution_count": 27,
   "id": "1bcacd67-2171-4893-94df-74df59ad3c4f",
   "metadata": {},
   "outputs": [
    {
     "data": {
      "text/html": [
       "<div>\n",
       "<style scoped>\n",
       "    .dataframe tbody tr th:only-of-type {\n",
       "        vertical-align: middle;\n",
       "    }\n",
       "\n",
       "    .dataframe tbody tr th {\n",
       "        vertical-align: top;\n",
       "    }\n",
       "\n",
       "    .dataframe thead th {\n",
       "        text-align: right;\n",
       "    }\n",
       "</style>\n",
       "<table border=\"1\" class=\"dataframe\">\n",
       "  <thead>\n",
       "    <tr style=\"text-align: right;\">\n",
       "      <th></th>\n",
       "      <th>index</th>\n",
       "      <th>hazard</th>\n",
       "    </tr>\n",
       "  </thead>\n",
       "  <tbody>\n",
       "    <tr>\n",
       "      <th>0</th>\n",
       "      <td></td>\n",
       "      <td>0.092262</td>\n",
       "    </tr>\n",
       "    <tr>\n",
       "      <th>1</th>\n",
       "      <td>Chemical additives</td>\n",
       "      <td>0.065476</td>\n",
       "    </tr>\n",
       "    <tr>\n",
       "      <th>2</th>\n",
       "      <td>Drug residues</td>\n",
       "      <td>0.062500</td>\n",
       "    </tr>\n",
       "    <tr>\n",
       "      <th>3</th>\n",
       "      <td>Sanitizer</td>\n",
       "      <td>0.047619</td>\n",
       "    </tr>\n",
       "    <tr>\n",
       "      <th>4</th>\n",
       "      <td>Chemical residues</td>\n",
       "      <td>0.047619</td>\n",
       "    </tr>\n",
       "    <tr>\n",
       "      <th>5</th>\n",
       "      <td>Phthalates</td>\n",
       "      <td>0.044643</td>\n",
       "    </tr>\n",
       "    <tr>\n",
       "      <th>6</th>\n",
       "      <td>Aflatoxin</td>\n",
       "      <td>0.038690</td>\n",
       "    </tr>\n",
       "    <tr>\n",
       "      <th>7</th>\n",
       "      <td>Histamine</td>\n",
       "      <td>0.038690</td>\n",
       "    </tr>\n",
       "    <tr>\n",
       "      <th>8</th>\n",
       "      <td>Tin</td>\n",
       "      <td>0.035714</td>\n",
       "    </tr>\n",
       "    <tr>\n",
       "      <th>10</th>\n",
       "      <td>Patulin</td>\n",
       "      <td>0.032738</td>\n",
       "    </tr>\n",
       "    <tr>\n",
       "      <th>9</th>\n",
       "      <td>Lead</td>\n",
       "      <td>0.032738</td>\n",
       "    </tr>\n",
       "  </tbody>\n",
       "</table>\n",
       "</div>"
      ],
      "text/plain": [
       "                 index    hazard\n",
       "0                       0.092262\n",
       "1   Chemical additives  0.065476\n",
       "2        Drug residues  0.062500\n",
       "3            Sanitizer  0.047619\n",
       "4    Chemical residues  0.047619\n",
       "5           Phthalates  0.044643\n",
       "6            Aflatoxin  0.038690\n",
       "7            Histamine  0.038690\n",
       "8                  Tin  0.035714\n",
       "10             Patulin  0.032738\n",
       "9                 Lead  0.032738"
      ]
     },
     "execution_count": 27,
     "metadata": {},
     "output_type": "execute_result"
    }
   ],
   "source": [
    "import numpy as np\n",
    "chem = recalls_explode[recalls_explode['hazard_type'] == 'Chemical']\n",
    "# chem.info()\n",
    "chem = chem.hazard.value_counts(normalize=True).to_frame().reset_index()\n",
    "\n",
    "chem.sort_values('hazard', ascending=False).head(11)"
   ]
  },
  {
   "cell_type": "code",
   "execution_count": 28,
   "id": "268f26f7-e579-4ded-942d-024f346b15c1",
   "metadata": {},
   "outputs": [
    {
     "data": {
      "text/plain": [
       "Milk                      1122\n",
       "Salmonella                 611\n",
       "Listeria monocytogenes     604\n",
       "Egg                        528\n",
       "Wheat                      386\n",
       "Name: hazard, dtype: int64"
      ]
     },
     "execution_count": 28,
     "metadata": {},
     "output_type": "execute_result"
    }
   ],
   "source": [
    "recalls_explode.hazard.value_counts().head()"
   ]
  },
  {
   "cell_type": "markdown",
   "id": "1c367cf7-d677-4a67-a0c9-e4c227a48e09",
   "metadata": {},
   "source": [
    "# Recalls per Province"
   ]
  },
  {
   "cell_type": "code",
   "execution_count": 29,
   "id": "12815d99-02be-4316-9cc2-f1e40de516af",
   "metadata": {},
   "outputs": [
    {
     "data": {
      "text/html": [
       "<div>\n",
       "<style scoped>\n",
       "    .dataframe tbody tr th:only-of-type {\n",
       "        vertical-align: middle;\n",
       "    }\n",
       "\n",
       "    .dataframe tbody tr th {\n",
       "        vertical-align: top;\n",
       "    }\n",
       "\n",
       "    .dataframe thead th {\n",
       "        text-align: right;\n",
       "    }\n",
       "</style>\n",
       "<table border=\"1\" class=\"dataframe\">\n",
       "  <thead>\n",
       "    <tr style=\"text-align: right;\">\n",
       "      <th></th>\n",
       "      <th>distribution</th>\n",
       "    </tr>\n",
       "  </thead>\n",
       "  <tbody>\n",
       "    <tr>\n",
       "      <th>Ontario</th>\n",
       "      <td>1763</td>\n",
       "    </tr>\n",
       "    <tr>\n",
       "      <th>Nationally</th>\n",
       "      <td>1212</td>\n",
       "    </tr>\n",
       "    <tr>\n",
       "      <th>British Columbia</th>\n",
       "      <td>1035</td>\n",
       "    </tr>\n",
       "    <tr>\n",
       "      <th>Quebec</th>\n",
       "      <td>973</td>\n",
       "    </tr>\n",
       "    <tr>\n",
       "      <th>Alberta</th>\n",
       "      <td>965</td>\n",
       "    </tr>\n",
       "    <tr>\n",
       "      <th>Manitoba</th>\n",
       "      <td>550</td>\n",
       "    </tr>\n",
       "    <tr>\n",
       "      <th>Saskatchewan</th>\n",
       "      <td>480</td>\n",
       "    </tr>\n",
       "    <tr>\n",
       "      <th>Nova Scotia</th>\n",
       "      <td>347</td>\n",
       "    </tr>\n",
       "    <tr>\n",
       "      <th>New Brunswick</th>\n",
       "      <td>312</td>\n",
       "    </tr>\n",
       "    <tr>\n",
       "      <th>New Foundland and Labrador</th>\n",
       "      <td>206</td>\n",
       "    </tr>\n",
       "    <tr>\n",
       "      <th>Prince Edward Island</th>\n",
       "      <td>141</td>\n",
       "    </tr>\n",
       "    <tr>\n",
       "      <th>Retail</th>\n",
       "      <td>80</td>\n",
       "    </tr>\n",
       "    <tr>\n",
       "      <th>Yukon</th>\n",
       "      <td>59</td>\n",
       "    </tr>\n",
       "    <tr>\n",
       "      <th>Northwest Territories</th>\n",
       "      <td>50</td>\n",
       "    </tr>\n",
       "    <tr>\n",
       "      <th>Nunavut</th>\n",
       "      <td>29</td>\n",
       "    </tr>\n",
       "  </tbody>\n",
       "</table>\n",
       "</div>"
      ],
      "text/plain": [
       "                            distribution\n",
       "Ontario                             1763\n",
       "Nationally                          1212\n",
       "British Columbia                    1035\n",
       "Quebec                               973\n",
       "Alberta                              965\n",
       "Manitoba                             550\n",
       "Saskatchewan                         480\n",
       "Nova Scotia                          347\n",
       "New Brunswick                        312\n",
       "New Foundland and Labrador           206\n",
       "Prince Edward Island                 141\n",
       "Retail                                80\n",
       "Yukon                                 59\n",
       "Northwest Territories                 50\n",
       "Nunavut                               29"
      ]
     },
     "execution_count": 29,
     "metadata": {},
     "output_type": "execute_result"
    }
   ],
   "source": [
    "dist = recalls_explode.distribution.value_counts().to_frame()\n",
    "dist.head(15)"
   ]
  },
  {
   "cell_type": "code",
   "execution_count": 30,
   "id": "f80aec7d-368a-47b3-976f-83e858e30bb5",
   "metadata": {},
   "outputs": [],
   "source": [
    "dist = dist[dist.index.isin(['Ontario', 'British Columbia',\n",
    "                     'Quebec', 'Alberta', 'Manitoba',\n",
    "                     'Saskatchewan', 'Nova Scotia', \n",
    "                     'New Brunswick', 'New Foundland and Labrador',\n",
    "                     'Prince Edward Island', 'Yukon',\n",
    "                     'Northwest Territories', 'Nunavut'])]\n",
    "dist['distribution'] = dist['distribution'] + 1212\n",
    "# dist.to_csv('recalls-distribution.cs v')"
   ]
  },
  {
   "cell_type": "markdown",
   "id": "70795575-5b45-40cd-a3dc-0b756f2a0775",
   "metadata": {
    "tags": []
   },
   "source": [
    "# Recalls per Audience"
   ]
  },
  {
   "cell_type": "code",
   "execution_count": 31,
   "id": "22fc230a-a8d6-432f-8fc2-d2c7976dcefb",
   "metadata": {},
   "outputs": [
    {
     "data": {
      "text/plain": [
       "Retail                                       3093\n",
       "Hotel/Restaurant/Institutional                275\n",
       "Consumer                                      202\n",
       "General public                                 90\n",
       "Retail, Hotel/Restaurant/Institutional         89\n",
       "Warehouse                                      48\n",
       "Retail and Hotel/Restaurant/Institutional      32\n",
       "Hotel/Restaurant/Institutional, Retail         14\n",
       "Retail, Retail                                 12\n",
       "Retail, Warehouse                               5\n",
       "Name: audience, dtype: int64"
      ]
     },
     "execution_count": 31,
     "metadata": {},
     "output_type": "execute_result"
    }
   ],
   "source": [
    "recalls.audience.value_counts().head(10)"
   ]
  }
 ],
 "metadata": {
  "kernelspec": {
   "display_name": "Python 3 (ipykernel)",
   "language": "python",
   "name": "python3"
  },
  "language_info": {
   "codemirror_mode": {
    "name": "ipython",
    "version": 3
   },
   "file_extension": ".py",
   "mimetype": "text/x-python",
   "name": "python",
   "nbconvert_exporter": "python",
   "pygments_lexer": "ipython3",
   "version": "3.9.7"
  }
 },
 "nbformat": 4,
 "nbformat_minor": 5
}
